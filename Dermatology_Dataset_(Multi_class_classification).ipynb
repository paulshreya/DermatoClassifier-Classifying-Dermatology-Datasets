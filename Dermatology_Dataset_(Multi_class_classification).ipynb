{
  "nbformat": 4,
  "nbformat_minor": 0,
  "metadata": {
    "colab": {
      "provenance": [],
      "authorship_tag": "ABX9TyO9XpdoxLXBtwHsk9lq4CDh",
      "include_colab_link": true
    },
    "kernelspec": {
      "name": "python3",
      "display_name": "Python 3"
    },
    "language_info": {
      "name": "python"
    }
  },
  "cells": [
    {
      "cell_type": "markdown",
      "metadata": {
        "id": "view-in-github",
        "colab_type": "text"
      },
      "source": [
        "<a href=\"https://colab.research.google.com/github/paulshreya/DermatoClassifier-Classifying-Dermatology-Datasets/blob/main/Dermatology_Dataset_(Multi_class_classification).ipynb\" target=\"_parent\"><img src=\"https://colab.research.google.com/assets/colab-badge.svg\" alt=\"Open In Colab\"/></a>"
      ]
    },
    {
      "cell_type": "markdown",
      "source": [
        "# **Dermatology Dataset (Multi-class classification)**\n",
        "\n",
        "**Problem Statement:** Given is a dataset, The aim is to determine the type of Eryhemato-Squamous Disease.\n",
        "\n",
        "**Link :** https://www.kaggle.com/datasets/olcaybolat1/dermatology-dataset-classification"
      ],
      "metadata": {
        "id": "CeqaRGOFuJUV"
      }
    },
    {
      "cell_type": "markdown",
      "source": [
        "# **Multi-Class Classification ML Models:**\n",
        "\n",
        "*There are various machine learning models that can be used for multiclass classification tasks. Here are some popular ones:*\n",
        "\n",
        "- **Logistic Regression:** Despite its name, logistic regression is commonly used for binary classification. However, it can be extended to handle multiclass classification using techniques like one-vs-rest (OvR) or softmax regression.\n",
        "\n",
        "- **Decision Trees:** Decision trees can naturally handle multiclass classification problems. They partition the feature space into regions, with each region corresponding to a different class.\n",
        "\n",
        "- **Random Forest:** Random Forest is an ensemble learning method that builds multiple decision trees and combines their predictions. It can handle multiclass classification tasks effectively and is robust to overfitting.\n",
        "\n",
        "- **Gradient Boosting Machines (GBM):** Gradient Boosting algorithms like XGBoost, LightGBM, and CatBoost can be used for multiclass classification. They build an ensemble of weak learners (typically decision trees) sequentially to improve predictive accuracy.\n",
        "\n",
        "- **Support Vector Machines (SVM):** SVMs can be used for multiclass classification by employing strategies like one-vs-one or one-vs-rest. SVMs aim to find the optimal hyperplane that separates the classes in the feature space.\n",
        "\n",
        "- **Neural Networks:** Deep learning models, particularly neural networks, have gained popularity for multiclass classification tasks. Architectures like feedforward neural networks, convolutional neural networks (CNNs), and recurrent neural networks (RNNs) can be used depending on the nature of the data.\n",
        "\n",
        "- **K-Nearest Neighbors (KNN):** KNN is a simple and intuitive algorithm for multiclass classification. It classifies instances based on the majority class among their nearest neighbors in the feature space.\n",
        "\n",
        "- **Naive Bayes:** Naive Bayes classifiers are probabilistic models that assume independence among features. Despite their simplicity, they can perform well on certain types of multiclass classification problems, especially when the independence assumption holds.\n",
        "\n",
        "- **Ensemble Methods:** Besides Random Forest and Gradient Boosting, other ensemble methods like AdaBoost and Bagging can also be used for multiclass classification. They combine multiple base classifiers to improve overall performance.\n",
        "\n",
        "These are some of the common machine learning models used for multiclass classification tasks. The choice of the model depends on various factors such as the nature of the data, the size of the dataset, computational resources, and the specific requirements of the problem. It's often beneficial to experiment with multiple models and techniques to find the one that performs best for a particular task."
      ],
      "metadata": {
        "id": "2fDkGAw0IqZk"
      }
    },
    {
      "cell_type": "markdown",
      "source": [
        "# **Steps of any Machine Learning Project**\n",
        "1. Data sources\n",
        "2. EDA (Exploratory Data Analysis)\n",
        "3. Feature Engineering\n",
        "4. Feature Table\n",
        "5. Train Model\n",
        "6. Test & Evaluate the model\n",
        "7. Predict the output\n",
        "8. EDA on the Output"
      ],
      "metadata": {
        "id": "t9HaUapdJEjP"
      }
    },
    {
      "cell_type": "markdown",
      "source": [
        "# **Importing all Files and datasets**\n",
        "\n",
        "\n"
      ],
      "metadata": {
        "id": "9xgOgbwufj1Z"
      }
    },
    {
      "cell_type": "code",
      "execution_count": null,
      "metadata": {
        "id": "BBhkcpPpdHCN"
      },
      "outputs": [],
      "source": [
        "import numpy as np\n",
        "import pandas as pd\n",
        "\n",
        "import matplotlib.pyplot as plt\n",
        "import seaborn as sns\n",
        "import plotly.express as px\n",
        "\n",
        "from sklearn.preprocessing import LabelEncoder\n",
        "from sklearn.impute import SimpleImputer\n",
        "\n",
        "from sklearn.model_selection import train_test_split\n",
        "from imblearn.over_sampling import SMOTE\n",
        "from collections import Counter\n",
        "\n",
        "from sklearn.ensemble import RandomForestClassifier\n",
        "from sklearn.ensemble import AdaBoostClassifier\n",
        "from sklearn.tree import DecisionTreeClassifier\n",
        "from sklearn.naive_bayes import GaussianNB\n",
        "\n",
        "\n",
        "from sklearn.metrics import accuracy_score\n",
        "from sklearn.metrics import confusion_matrix"
      ]
    },
    {
      "cell_type": "code",
      "source": [
        "df = pd.read_csv(\"/content/dermatology_database_1.csv\")"
      ],
      "metadata": {
        "id": "mNwqvp7XmedS"
      },
      "execution_count": null,
      "outputs": []
    },
    {
      "cell_type": "code",
      "source": [
        "pd.set_option('display.max_columns', None)\n",
        "df.head(5)"
      ],
      "metadata": {
        "colab": {
          "base_uri": "https://localhost:8080/",
          "height": 226
        },
        "id": "_iyHrVuMqG-H",
        "outputId": "40543e1c-7ab6-4a42-c33c-d3c0a44490d4"
      },
      "execution_count": null,
      "outputs": [
        {
          "output_type": "execute_result",
          "data": {
            "text/plain": [
              "   erythema  scaling  definite_borders  itching  koebner_phenomenon  \\\n",
              "0         2        2                 0        3                   0   \n",
              "1         3        3                 3        2                   1   \n",
              "2         2        1                 2        3                   1   \n",
              "3         2        2                 2        0                   0   \n",
              "4         2        3                 2        2                   2   \n",
              "\n",
              "   polygonal_papules  follicular_papules  oral_mucosal_involvement  \\\n",
              "0                  0                   0                         0   \n",
              "1                  0                   0                         0   \n",
              "2                  3                   0                         3   \n",
              "3                  0                   0                         0   \n",
              "4                  2                   0                         2   \n",
              "\n",
              "   knee_and_elbow_involvement  scalp_involvement  family_history  \\\n",
              "0                           1                  0               0   \n",
              "1                           1                  1               1   \n",
              "2                           0                  0               0   \n",
              "3                           3                  2               0   \n",
              "4                           0                  0               0   \n",
              "\n",
              "   melanin_incontinence  eosinophils_infiltrate  PNL_infiltrate  \\\n",
              "0                     0                       0               0   \n",
              "1                     0                       0               1   \n",
              "2                     1                       0               0   \n",
              "3                     0                       0               3   \n",
              "4                     1                       0               0   \n",
              "\n",
              "   fibrosis_papillary_dermis  exocytosis  acanthosis  hyperkeratosis  \\\n",
              "0                          0           3           2               0   \n",
              "1                          0           1           2               0   \n",
              "2                          0           1           2               0   \n",
              "3                          0           0           2               0   \n",
              "4                          0           1           2               0   \n",
              "\n",
              "   parakeratosis  clubbing_rete_ridges  elongation_rete_ridges  \\\n",
              "0              0                     0                       0   \n",
              "1              2                     2                       2   \n",
              "2              2                     0                       0   \n",
              "3              3                     2                       2   \n",
              "4              0                     0                       0   \n",
              "\n",
              "   thinning_suprapapillary_epidermis  spongiform_pustule  munro_microabcess  \\\n",
              "0                                  0                   0                  0   \n",
              "1                                  2                   2                  1   \n",
              "2                                  0                   0                  0   \n",
              "3                                  2                   2                  0   \n",
              "4                                  0                   0                  0   \n",
              "\n",
              "   focal_hypergranulosis  disappearance_granular_layer  \\\n",
              "0                      0                             0   \n",
              "1                      0                             0   \n",
              "2                      2                             0   \n",
              "3                      0                             3   \n",
              "4                      2                             2   \n",
              "\n",
              "   vacuolisation_damage_basal_layer  spongiosis  saw_tooth_appearance_retes  \\\n",
              "0                                 0           3                           0   \n",
              "1                                 0           0                           0   \n",
              "2                                 2           3                           2   \n",
              "3                                 0           0                           0   \n",
              "4                                 3           2                           3   \n",
              "\n",
              "   follicular_horn_plug  perifollicular_parakeratosis  \\\n",
              "0                     0                             0   \n",
              "1                     0                             0   \n",
              "2                     0                             0   \n",
              "3                     0                             0   \n",
              "4                     0                             0   \n",
              "\n",
              "   inflammatory_mononuclear_infiltrate  band_like_infiltrate age  class  \n",
              "0                                    1                     0  55      2  \n",
              "1                                    1                     0   8      1  \n",
              "2                                    2                     3  26      3  \n",
              "3                                    3                     0  40      1  \n",
              "4                                    2                     3  45      3  "
            ],
            "text/html": [
              "\n",
              "  <div id=\"df-b7b60869-b1bd-403f-9e76-306193e3dd20\" class=\"colab-df-container\">\n",
              "    <div>\n",
              "<style scoped>\n",
              "    .dataframe tbody tr th:only-of-type {\n",
              "        vertical-align: middle;\n",
              "    }\n",
              "\n",
              "    .dataframe tbody tr th {\n",
              "        vertical-align: top;\n",
              "    }\n",
              "\n",
              "    .dataframe thead th {\n",
              "        text-align: right;\n",
              "    }\n",
              "</style>\n",
              "<table border=\"1\" class=\"dataframe\">\n",
              "  <thead>\n",
              "    <tr style=\"text-align: right;\">\n",
              "      <th></th>\n",
              "      <th>erythema</th>\n",
              "      <th>scaling</th>\n",
              "      <th>definite_borders</th>\n",
              "      <th>itching</th>\n",
              "      <th>koebner_phenomenon</th>\n",
              "      <th>polygonal_papules</th>\n",
              "      <th>follicular_papules</th>\n",
              "      <th>oral_mucosal_involvement</th>\n",
              "      <th>knee_and_elbow_involvement</th>\n",
              "      <th>scalp_involvement</th>\n",
              "      <th>family_history</th>\n",
              "      <th>melanin_incontinence</th>\n",
              "      <th>eosinophils_infiltrate</th>\n",
              "      <th>PNL_infiltrate</th>\n",
              "      <th>fibrosis_papillary_dermis</th>\n",
              "      <th>exocytosis</th>\n",
              "      <th>acanthosis</th>\n",
              "      <th>hyperkeratosis</th>\n",
              "      <th>parakeratosis</th>\n",
              "      <th>clubbing_rete_ridges</th>\n",
              "      <th>elongation_rete_ridges</th>\n",
              "      <th>thinning_suprapapillary_epidermis</th>\n",
              "      <th>spongiform_pustule</th>\n",
              "      <th>munro_microabcess</th>\n",
              "      <th>focal_hypergranulosis</th>\n",
              "      <th>disappearance_granular_layer</th>\n",
              "      <th>vacuolisation_damage_basal_layer</th>\n",
              "      <th>spongiosis</th>\n",
              "      <th>saw_tooth_appearance_retes</th>\n",
              "      <th>follicular_horn_plug</th>\n",
              "      <th>perifollicular_parakeratosis</th>\n",
              "      <th>inflammatory_mononuclear_infiltrate</th>\n",
              "      <th>band_like_infiltrate</th>\n",
              "      <th>age</th>\n",
              "      <th>class</th>\n",
              "    </tr>\n",
              "  </thead>\n",
              "  <tbody>\n",
              "    <tr>\n",
              "      <th>0</th>\n",
              "      <td>2</td>\n",
              "      <td>2</td>\n",
              "      <td>0</td>\n",
              "      <td>3</td>\n",
              "      <td>0</td>\n",
              "      <td>0</td>\n",
              "      <td>0</td>\n",
              "      <td>0</td>\n",
              "      <td>1</td>\n",
              "      <td>0</td>\n",
              "      <td>0</td>\n",
              "      <td>0</td>\n",
              "      <td>0</td>\n",
              "      <td>0</td>\n",
              "      <td>0</td>\n",
              "      <td>3</td>\n",
              "      <td>2</td>\n",
              "      <td>0</td>\n",
              "      <td>0</td>\n",
              "      <td>0</td>\n",
              "      <td>0</td>\n",
              "      <td>0</td>\n",
              "      <td>0</td>\n",
              "      <td>0</td>\n",
              "      <td>0</td>\n",
              "      <td>0</td>\n",
              "      <td>0</td>\n",
              "      <td>3</td>\n",
              "      <td>0</td>\n",
              "      <td>0</td>\n",
              "      <td>0</td>\n",
              "      <td>1</td>\n",
              "      <td>0</td>\n",
              "      <td>55</td>\n",
              "      <td>2</td>\n",
              "    </tr>\n",
              "    <tr>\n",
              "      <th>1</th>\n",
              "      <td>3</td>\n",
              "      <td>3</td>\n",
              "      <td>3</td>\n",
              "      <td>2</td>\n",
              "      <td>1</td>\n",
              "      <td>0</td>\n",
              "      <td>0</td>\n",
              "      <td>0</td>\n",
              "      <td>1</td>\n",
              "      <td>1</td>\n",
              "      <td>1</td>\n",
              "      <td>0</td>\n",
              "      <td>0</td>\n",
              "      <td>1</td>\n",
              "      <td>0</td>\n",
              "      <td>1</td>\n",
              "      <td>2</td>\n",
              "      <td>0</td>\n",
              "      <td>2</td>\n",
              "      <td>2</td>\n",
              "      <td>2</td>\n",
              "      <td>2</td>\n",
              "      <td>2</td>\n",
              "      <td>1</td>\n",
              "      <td>0</td>\n",
              "      <td>0</td>\n",
              "      <td>0</td>\n",
              "      <td>0</td>\n",
              "      <td>0</td>\n",
              "      <td>0</td>\n",
              "      <td>0</td>\n",
              "      <td>1</td>\n",
              "      <td>0</td>\n",
              "      <td>8</td>\n",
              "      <td>1</td>\n",
              "    </tr>\n",
              "    <tr>\n",
              "      <th>2</th>\n",
              "      <td>2</td>\n",
              "      <td>1</td>\n",
              "      <td>2</td>\n",
              "      <td>3</td>\n",
              "      <td>1</td>\n",
              "      <td>3</td>\n",
              "      <td>0</td>\n",
              "      <td>3</td>\n",
              "      <td>0</td>\n",
              "      <td>0</td>\n",
              "      <td>0</td>\n",
              "      <td>1</td>\n",
              "      <td>0</td>\n",
              "      <td>0</td>\n",
              "      <td>0</td>\n",
              "      <td>1</td>\n",
              "      <td>2</td>\n",
              "      <td>0</td>\n",
              "      <td>2</td>\n",
              "      <td>0</td>\n",
              "      <td>0</td>\n",
              "      <td>0</td>\n",
              "      <td>0</td>\n",
              "      <td>0</td>\n",
              "      <td>2</td>\n",
              "      <td>0</td>\n",
              "      <td>2</td>\n",
              "      <td>3</td>\n",
              "      <td>2</td>\n",
              "      <td>0</td>\n",
              "      <td>0</td>\n",
              "      <td>2</td>\n",
              "      <td>3</td>\n",
              "      <td>26</td>\n",
              "      <td>3</td>\n",
              "    </tr>\n",
              "    <tr>\n",
              "      <th>3</th>\n",
              "      <td>2</td>\n",
              "      <td>2</td>\n",
              "      <td>2</td>\n",
              "      <td>0</td>\n",
              "      <td>0</td>\n",
              "      <td>0</td>\n",
              "      <td>0</td>\n",
              "      <td>0</td>\n",
              "      <td>3</td>\n",
              "      <td>2</td>\n",
              "      <td>0</td>\n",
              "      <td>0</td>\n",
              "      <td>0</td>\n",
              "      <td>3</td>\n",
              "      <td>0</td>\n",
              "      <td>0</td>\n",
              "      <td>2</td>\n",
              "      <td>0</td>\n",
              "      <td>3</td>\n",
              "      <td>2</td>\n",
              "      <td>2</td>\n",
              "      <td>2</td>\n",
              "      <td>2</td>\n",
              "      <td>0</td>\n",
              "      <td>0</td>\n",
              "      <td>3</td>\n",
              "      <td>0</td>\n",
              "      <td>0</td>\n",
              "      <td>0</td>\n",
              "      <td>0</td>\n",
              "      <td>0</td>\n",
              "      <td>3</td>\n",
              "      <td>0</td>\n",
              "      <td>40</td>\n",
              "      <td>1</td>\n",
              "    </tr>\n",
              "    <tr>\n",
              "      <th>4</th>\n",
              "      <td>2</td>\n",
              "      <td>3</td>\n",
              "      <td>2</td>\n",
              "      <td>2</td>\n",
              "      <td>2</td>\n",
              "      <td>2</td>\n",
              "      <td>0</td>\n",
              "      <td>2</td>\n",
              "      <td>0</td>\n",
              "      <td>0</td>\n",
              "      <td>0</td>\n",
              "      <td>1</td>\n",
              "      <td>0</td>\n",
              "      <td>0</td>\n",
              "      <td>0</td>\n",
              "      <td>1</td>\n",
              "      <td>2</td>\n",
              "      <td>0</td>\n",
              "      <td>0</td>\n",
              "      <td>0</td>\n",
              "      <td>0</td>\n",
              "      <td>0</td>\n",
              "      <td>0</td>\n",
              "      <td>0</td>\n",
              "      <td>2</td>\n",
              "      <td>2</td>\n",
              "      <td>3</td>\n",
              "      <td>2</td>\n",
              "      <td>3</td>\n",
              "      <td>0</td>\n",
              "      <td>0</td>\n",
              "      <td>2</td>\n",
              "      <td>3</td>\n",
              "      <td>45</td>\n",
              "      <td>3</td>\n",
              "    </tr>\n",
              "  </tbody>\n",
              "</table>\n",
              "</div>\n",
              "    <div class=\"colab-df-buttons\">\n",
              "\n",
              "  <div class=\"colab-df-container\">\n",
              "    <button class=\"colab-df-convert\" onclick=\"convertToInteractive('df-b7b60869-b1bd-403f-9e76-306193e3dd20')\"\n",
              "            title=\"Convert this dataframe to an interactive table.\"\n",
              "            style=\"display:none;\">\n",
              "\n",
              "  <svg xmlns=\"http://www.w3.org/2000/svg\" height=\"24px\" viewBox=\"0 -960 960 960\">\n",
              "    <path d=\"M120-120v-720h720v720H120Zm60-500h600v-160H180v160Zm220 220h160v-160H400v160Zm0 220h160v-160H400v160ZM180-400h160v-160H180v160Zm440 0h160v-160H620v160ZM180-180h160v-160H180v160Zm440 0h160v-160H620v160Z\"/>\n",
              "  </svg>\n",
              "    </button>\n",
              "\n",
              "  <style>\n",
              "    .colab-df-container {\n",
              "      display:flex;\n",
              "      gap: 12px;\n",
              "    }\n",
              "\n",
              "    .colab-df-convert {\n",
              "      background-color: #E8F0FE;\n",
              "      border: none;\n",
              "      border-radius: 50%;\n",
              "      cursor: pointer;\n",
              "      display: none;\n",
              "      fill: #1967D2;\n",
              "      height: 32px;\n",
              "      padding: 0 0 0 0;\n",
              "      width: 32px;\n",
              "    }\n",
              "\n",
              "    .colab-df-convert:hover {\n",
              "      background-color: #E2EBFA;\n",
              "      box-shadow: 0px 1px 2px rgba(60, 64, 67, 0.3), 0px 1px 3px 1px rgba(60, 64, 67, 0.15);\n",
              "      fill: #174EA6;\n",
              "    }\n",
              "\n",
              "    .colab-df-buttons div {\n",
              "      margin-bottom: 4px;\n",
              "    }\n",
              "\n",
              "    [theme=dark] .colab-df-convert {\n",
              "      background-color: #3B4455;\n",
              "      fill: #D2E3FC;\n",
              "    }\n",
              "\n",
              "    [theme=dark] .colab-df-convert:hover {\n",
              "      background-color: #434B5C;\n",
              "      box-shadow: 0px 1px 3px 1px rgba(0, 0, 0, 0.15);\n",
              "      filter: drop-shadow(0px 1px 2px rgba(0, 0, 0, 0.3));\n",
              "      fill: #FFFFFF;\n",
              "    }\n",
              "  </style>\n",
              "\n",
              "    <script>\n",
              "      const buttonEl =\n",
              "        document.querySelector('#df-b7b60869-b1bd-403f-9e76-306193e3dd20 button.colab-df-convert');\n",
              "      buttonEl.style.display =\n",
              "        google.colab.kernel.accessAllowed ? 'block' : 'none';\n",
              "\n",
              "      async function convertToInteractive(key) {\n",
              "        const element = document.querySelector('#df-b7b60869-b1bd-403f-9e76-306193e3dd20');\n",
              "        const dataTable =\n",
              "          await google.colab.kernel.invokeFunction('convertToInteractive',\n",
              "                                                    [key], {});\n",
              "        if (!dataTable) return;\n",
              "\n",
              "        const docLinkHtml = 'Like what you see? Visit the ' +\n",
              "          '<a target=\"_blank\" href=https://colab.research.google.com/notebooks/data_table.ipynb>data table notebook</a>'\n",
              "          + ' to learn more about interactive tables.';\n",
              "        element.innerHTML = '';\n",
              "        dataTable['output_type'] = 'display_data';\n",
              "        await google.colab.output.renderOutput(dataTable, element);\n",
              "        const docLink = document.createElement('div');\n",
              "        docLink.innerHTML = docLinkHtml;\n",
              "        element.appendChild(docLink);\n",
              "      }\n",
              "    </script>\n",
              "  </div>\n",
              "\n",
              "\n",
              "<div id=\"df-0d6fe626-34eb-4968-a5ca-181bed91cbc2\">\n",
              "  <button class=\"colab-df-quickchart\" onclick=\"quickchart('df-0d6fe626-34eb-4968-a5ca-181bed91cbc2')\"\n",
              "            title=\"Suggest charts\"\n",
              "            style=\"display:none;\">\n",
              "\n",
              "<svg xmlns=\"http://www.w3.org/2000/svg\" height=\"24px\"viewBox=\"0 0 24 24\"\n",
              "     width=\"24px\">\n",
              "    <g>\n",
              "        <path d=\"M19 3H5c-1.1 0-2 .9-2 2v14c0 1.1.9 2 2 2h14c1.1 0 2-.9 2-2V5c0-1.1-.9-2-2-2zM9 17H7v-7h2v7zm4 0h-2V7h2v10zm4 0h-2v-4h2v4z\"/>\n",
              "    </g>\n",
              "</svg>\n",
              "  </button>\n",
              "\n",
              "<style>\n",
              "  .colab-df-quickchart {\n",
              "      --bg-color: #E8F0FE;\n",
              "      --fill-color: #1967D2;\n",
              "      --hover-bg-color: #E2EBFA;\n",
              "      --hover-fill-color: #174EA6;\n",
              "      --disabled-fill-color: #AAA;\n",
              "      --disabled-bg-color: #DDD;\n",
              "  }\n",
              "\n",
              "  [theme=dark] .colab-df-quickchart {\n",
              "      --bg-color: #3B4455;\n",
              "      --fill-color: #D2E3FC;\n",
              "      --hover-bg-color: #434B5C;\n",
              "      --hover-fill-color: #FFFFFF;\n",
              "      --disabled-bg-color: #3B4455;\n",
              "      --disabled-fill-color: #666;\n",
              "  }\n",
              "\n",
              "  .colab-df-quickchart {\n",
              "    background-color: var(--bg-color);\n",
              "    border: none;\n",
              "    border-radius: 50%;\n",
              "    cursor: pointer;\n",
              "    display: none;\n",
              "    fill: var(--fill-color);\n",
              "    height: 32px;\n",
              "    padding: 0;\n",
              "    width: 32px;\n",
              "  }\n",
              "\n",
              "  .colab-df-quickchart:hover {\n",
              "    background-color: var(--hover-bg-color);\n",
              "    box-shadow: 0 1px 2px rgba(60, 64, 67, 0.3), 0 1px 3px 1px rgba(60, 64, 67, 0.15);\n",
              "    fill: var(--button-hover-fill-color);\n",
              "  }\n",
              "\n",
              "  .colab-df-quickchart-complete:disabled,\n",
              "  .colab-df-quickchart-complete:disabled:hover {\n",
              "    background-color: var(--disabled-bg-color);\n",
              "    fill: var(--disabled-fill-color);\n",
              "    box-shadow: none;\n",
              "  }\n",
              "\n",
              "  .colab-df-spinner {\n",
              "    border: 2px solid var(--fill-color);\n",
              "    border-color: transparent;\n",
              "    border-bottom-color: var(--fill-color);\n",
              "    animation:\n",
              "      spin 1s steps(1) infinite;\n",
              "  }\n",
              "\n",
              "  @keyframes spin {\n",
              "    0% {\n",
              "      border-color: transparent;\n",
              "      border-bottom-color: var(--fill-color);\n",
              "      border-left-color: var(--fill-color);\n",
              "    }\n",
              "    20% {\n",
              "      border-color: transparent;\n",
              "      border-left-color: var(--fill-color);\n",
              "      border-top-color: var(--fill-color);\n",
              "    }\n",
              "    30% {\n",
              "      border-color: transparent;\n",
              "      border-left-color: var(--fill-color);\n",
              "      border-top-color: var(--fill-color);\n",
              "      border-right-color: var(--fill-color);\n",
              "    }\n",
              "    40% {\n",
              "      border-color: transparent;\n",
              "      border-right-color: var(--fill-color);\n",
              "      border-top-color: var(--fill-color);\n",
              "    }\n",
              "    60% {\n",
              "      border-color: transparent;\n",
              "      border-right-color: var(--fill-color);\n",
              "    }\n",
              "    80% {\n",
              "      border-color: transparent;\n",
              "      border-right-color: var(--fill-color);\n",
              "      border-bottom-color: var(--fill-color);\n",
              "    }\n",
              "    90% {\n",
              "      border-color: transparent;\n",
              "      border-bottom-color: var(--fill-color);\n",
              "    }\n",
              "  }\n",
              "</style>\n",
              "\n",
              "  <script>\n",
              "    async function quickchart(key) {\n",
              "      const quickchartButtonEl =\n",
              "        document.querySelector('#' + key + ' button');\n",
              "      quickchartButtonEl.disabled = true;  // To prevent multiple clicks.\n",
              "      quickchartButtonEl.classList.add('colab-df-spinner');\n",
              "      try {\n",
              "        const charts = await google.colab.kernel.invokeFunction(\n",
              "            'suggestCharts', [key], {});\n",
              "      } catch (error) {\n",
              "        console.error('Error during call to suggestCharts:', error);\n",
              "      }\n",
              "      quickchartButtonEl.classList.remove('colab-df-spinner');\n",
              "      quickchartButtonEl.classList.add('colab-df-quickchart-complete');\n",
              "    }\n",
              "    (() => {\n",
              "      let quickchartButtonEl =\n",
              "        document.querySelector('#df-0d6fe626-34eb-4968-a5ca-181bed91cbc2 button');\n",
              "      quickchartButtonEl.style.display =\n",
              "        google.colab.kernel.accessAllowed ? 'block' : 'none';\n",
              "    })();\n",
              "  </script>\n",
              "</div>\n",
              "\n",
              "    </div>\n",
              "  </div>\n"
            ],
            "application/vnd.google.colaboratory.intrinsic+json": {
              "type": "dataframe",
              "variable_name": "df"
            }
          },
          "metadata": {},
          "execution_count": 5
        }
      ]
    },
    {
      "cell_type": "markdown",
      "source": [
        "## **EDA (Exploratory Data Analysis)**"
      ],
      "metadata": {
        "id": "eeWCEYMmvCN8"
      }
    },
    {
      "cell_type": "code",
      "source": [
        "df.info()"
      ],
      "metadata": {
        "colab": {
          "base_uri": "https://localhost:8080/"
        },
        "id": "Zh6mR5vPqHih",
        "outputId": "9ebc17f7-a428-46e1-b5dc-1678d4ff6b57"
      },
      "execution_count": null,
      "outputs": [
        {
          "output_type": "stream",
          "name": "stdout",
          "text": [
            "<class 'pandas.core.frame.DataFrame'>\n",
            "RangeIndex: 366 entries, 0 to 365\n",
            "Data columns (total 35 columns):\n",
            " #   Column                               Non-Null Count  Dtype \n",
            "---  ------                               --------------  ----- \n",
            " 0   erythema                             366 non-null    int64 \n",
            " 1   scaling                              366 non-null    int64 \n",
            " 2   definite_borders                     366 non-null    int64 \n",
            " 3   itching                              366 non-null    int64 \n",
            " 4   koebner_phenomenon                   366 non-null    int64 \n",
            " 5   polygonal_papules                    366 non-null    int64 \n",
            " 6   follicular_papules                   366 non-null    int64 \n",
            " 7   oral_mucosal_involvement             366 non-null    int64 \n",
            " 8   knee_and_elbow_involvement           366 non-null    int64 \n",
            " 9   scalp_involvement                    366 non-null    int64 \n",
            " 10  family_history                       366 non-null    int64 \n",
            " 11  melanin_incontinence                 366 non-null    int64 \n",
            " 12  eosinophils_infiltrate               366 non-null    int64 \n",
            " 13  PNL_infiltrate                       366 non-null    int64 \n",
            " 14  fibrosis_papillary_dermis            366 non-null    int64 \n",
            " 15  exocytosis                           366 non-null    int64 \n",
            " 16  acanthosis                           366 non-null    int64 \n",
            " 17  hyperkeratosis                       366 non-null    int64 \n",
            " 18  parakeratosis                        366 non-null    int64 \n",
            " 19  clubbing_rete_ridges                 366 non-null    int64 \n",
            " 20  elongation_rete_ridges               366 non-null    int64 \n",
            " 21  thinning_suprapapillary_epidermis    366 non-null    int64 \n",
            " 22  spongiform_pustule                   366 non-null    int64 \n",
            " 23  munro_microabcess                    366 non-null    int64 \n",
            " 24  focal_hypergranulosis                366 non-null    int64 \n",
            " 25  disappearance_granular_layer         366 non-null    int64 \n",
            " 26  vacuolisation_damage_basal_layer     366 non-null    int64 \n",
            " 27  spongiosis                           366 non-null    int64 \n",
            " 28  saw_tooth_appearance_retes           366 non-null    int64 \n",
            " 29  follicular_horn_plug                 366 non-null    int64 \n",
            " 30  perifollicular_parakeratosis         366 non-null    int64 \n",
            " 31  inflammatory_mononuclear_infiltrate  366 non-null    int64 \n",
            " 32  band_like_infiltrate                 366 non-null    int64 \n",
            " 33  age                                  366 non-null    object\n",
            " 34  class                                366 non-null    int64 \n",
            "dtypes: int64(34), object(1)\n",
            "memory usage: 100.2+ KB\n"
          ]
        }
      ]
    },
    {
      "cell_type": "code",
      "source": [
        "df.size"
      ],
      "metadata": {
        "colab": {
          "base_uri": "https://localhost:8080/"
        },
        "id": "Z24TVSXOqHk-",
        "outputId": "9a0359c2-bdc1-4d3d-8d33-b8eda377e60c"
      },
      "execution_count": null,
      "outputs": [
        {
          "output_type": "execute_result",
          "data": {
            "text/plain": [
              "12810"
            ]
          },
          "metadata": {},
          "execution_count": 6
        }
      ]
    },
    {
      "cell_type": "code",
      "source": [
        "df.shape"
      ],
      "metadata": {
        "colab": {
          "base_uri": "https://localhost:8080/"
        },
        "id": "w8A-1GOEqHnP",
        "outputId": "97a804a4-20d7-4876-a115-8b17783ba9c8"
      },
      "execution_count": null,
      "outputs": [
        {
          "output_type": "execute_result",
          "data": {
            "text/plain": [
              "(366, 35)"
            ]
          },
          "metadata": {},
          "execution_count": 8
        }
      ]
    },
    {
      "cell_type": "code",
      "source": [
        "df.describe()"
      ],
      "metadata": {
        "colab": {
          "base_uri": "https://localhost:8080/",
          "height": 320
        },
        "id": "XeCJZsvBqHp2",
        "outputId": "b22cfb62-8170-49a1-b505-47df7a404cea"
      },
      "execution_count": null,
      "outputs": [
        {
          "output_type": "execute_result",
          "data": {
            "text/plain": [
              "         erythema     scaling  definite_borders     itching  \\\n",
              "count  366.000000  366.000000        366.000000  366.000000   \n",
              "mean     2.068306    1.795082          1.549180    1.366120   \n",
              "std      0.664753    0.701527          0.907525    1.138299   \n",
              "min      0.000000    0.000000          0.000000    0.000000   \n",
              "25%      2.000000    1.000000          1.000000    0.000000   \n",
              "50%      2.000000    2.000000          2.000000    1.000000   \n",
              "75%      2.000000    2.000000          2.000000    2.000000   \n",
              "max      3.000000    3.000000          3.000000    3.000000   \n",
              "\n",
              "       koebner_phenomenon  polygonal_papules  follicular_papules  \\\n",
              "count          366.000000         366.000000          366.000000   \n",
              "mean             0.633880           0.448087            0.166667   \n",
              "std              0.908016           0.957327            0.570588   \n",
              "min              0.000000           0.000000            0.000000   \n",
              "25%              0.000000           0.000000            0.000000   \n",
              "50%              0.000000           0.000000            0.000000   \n",
              "75%              1.000000           0.000000            0.000000   \n",
              "max              3.000000           3.000000            3.000000   \n",
              "\n",
              "       oral_mucosal_involvement  knee_and_elbow_involvement  \\\n",
              "count                366.000000                  366.000000   \n",
              "mean                   0.377049                    0.614754   \n",
              "std                    0.834147                    0.982979   \n",
              "min                    0.000000                    0.000000   \n",
              "25%                    0.000000                    0.000000   \n",
              "50%                    0.000000                    0.000000   \n",
              "75%                    0.000000                    1.000000   \n",
              "max                    3.000000                    3.000000   \n",
              "\n",
              "       scalp_involvement  family_history  melanin_incontinence  \\\n",
              "count         366.000000      366.000000            366.000000   \n",
              "mean            0.519126        0.125683              0.404372   \n",
              "std             0.905639        0.331946              0.869818   \n",
              "min             0.000000        0.000000              0.000000   \n",
              "25%             0.000000        0.000000              0.000000   \n",
              "50%             0.000000        0.000000              0.000000   \n",
              "75%             1.000000        0.000000              0.000000   \n",
              "max             3.000000        1.000000              3.000000   \n",
              "\n",
              "       eosinophils_infiltrate  PNL_infiltrate  fibrosis_papillary_dermis  \\\n",
              "count              366.000000      366.000000                 366.000000   \n",
              "mean                 0.139344        0.546448                   0.336066   \n",
              "std                  0.411790        0.815451                   0.853139   \n",
              "min                  0.000000        0.000000                   0.000000   \n",
              "25%                  0.000000        0.000000                   0.000000   \n",
              "50%                  0.000000        0.000000                   0.000000   \n",
              "75%                  0.000000        1.000000                   0.000000   \n",
              "max                  2.000000        3.000000                   3.000000   \n",
              "\n",
              "       exocytosis  acanthosis  hyperkeratosis  parakeratosis  \\\n",
              "count  366.000000  366.000000      366.000000     366.000000   \n",
              "mean     1.368852    1.956284        0.527322       1.289617   \n",
              "std      1.104418    0.712512        0.757116       0.917562   \n",
              "min      0.000000    0.000000        0.000000       0.000000   \n",
              "25%      0.000000    2.000000        0.000000       1.000000   \n",
              "50%      2.000000    2.000000        0.000000       1.000000   \n",
              "75%      2.000000    2.000000        1.000000       2.000000   \n",
              "max      3.000000    3.000000        3.000000       3.000000   \n",
              "\n",
              "       clubbing_rete_ridges  elongation_rete_ridges  \\\n",
              "count            366.000000              366.000000   \n",
              "mean               0.663934                0.991803   \n",
              "std                1.056829                1.162161   \n",
              "min                0.000000                0.000000   \n",
              "25%                0.000000                0.000000   \n",
              "50%                0.000000                0.000000   \n",
              "75%                2.000000                2.000000   \n",
              "max                3.000000                3.000000   \n",
              "\n",
              "       thinning_suprapapillary_epidermis  spongiform_pustule  \\\n",
              "count                         366.000000          366.000000   \n",
              "mean                            0.633880            0.295082   \n",
              "std                             1.034924            0.670578   \n",
              "min                             0.000000            0.000000   \n",
              "25%                             0.000000            0.000000   \n",
              "50%                             0.000000            0.000000   \n",
              "75%                             1.000000            0.000000   \n",
              "max                             3.000000            3.000000   \n",
              "\n",
              "       munro_microabcess  focal_hypergranulosis  disappearance_granular_layer  \\\n",
              "count         366.000000             366.000000                    366.000000   \n",
              "mean            0.363388               0.393443                      0.464481   \n",
              "std             0.759721               0.849406                      0.864899   \n",
              "min             0.000000               0.000000                      0.000000   \n",
              "25%             0.000000               0.000000                      0.000000   \n",
              "50%             0.000000               0.000000                      0.000000   \n",
              "75%             0.000000               0.000000                      1.000000   \n",
              "max             3.000000               3.000000                      3.000000   \n",
              "\n",
              "       vacuolisation_damage_basal_layer  spongiosis  \\\n",
              "count                        366.000000  366.000000   \n",
              "mean                           0.456284    0.953552   \n",
              "std                            0.954873    1.130172   \n",
              "min                            0.000000    0.000000   \n",
              "25%                            0.000000    0.000000   \n",
              "50%                            0.000000    0.000000   \n",
              "75%                            0.000000    2.000000   \n",
              "max                            3.000000    3.000000   \n",
              "\n",
              "       saw_tooth_appearance_retes  follicular_horn_plug  \\\n",
              "count                  366.000000            366.000000   \n",
              "mean                     0.453552              0.103825   \n",
              "std                      0.954744              0.450433   \n",
              "min                      0.000000              0.000000   \n",
              "25%                      0.000000              0.000000   \n",
              "50%                      0.000000              0.000000   \n",
              "75%                      0.000000              0.000000   \n",
              "max                      3.000000              3.000000   \n",
              "\n",
              "       perifollicular_parakeratosis  inflammatory_mononuclear_infiltrate  \\\n",
              "count                    366.000000                           366.000000   \n",
              "mean                       0.114754                             1.866120   \n",
              "std                        0.488723                             0.726108   \n",
              "min                        0.000000                             0.000000   \n",
              "25%                        0.000000                             1.000000   \n",
              "50%                        0.000000                             2.000000   \n",
              "75%                        0.000000                             2.000000   \n",
              "max                        3.000000                             3.000000   \n",
              "\n",
              "       band_like_infiltrate       class  \n",
              "count            366.000000  366.000000  \n",
              "mean               0.554645    2.803279  \n",
              "std                1.105908    1.597803  \n",
              "min                0.000000    1.000000  \n",
              "25%                0.000000    1.000000  \n",
              "50%                0.000000    3.000000  \n",
              "75%                0.000000    4.000000  \n",
              "max                3.000000    6.000000  "
            ],
            "text/html": [
              "\n",
              "  <div id=\"df-d1085c6b-7613-4d16-b4c1-4b6eb4e9e08b\" class=\"colab-df-container\">\n",
              "    <div>\n",
              "<style scoped>\n",
              "    .dataframe tbody tr th:only-of-type {\n",
              "        vertical-align: middle;\n",
              "    }\n",
              "\n",
              "    .dataframe tbody tr th {\n",
              "        vertical-align: top;\n",
              "    }\n",
              "\n",
              "    .dataframe thead th {\n",
              "        text-align: right;\n",
              "    }\n",
              "</style>\n",
              "<table border=\"1\" class=\"dataframe\">\n",
              "  <thead>\n",
              "    <tr style=\"text-align: right;\">\n",
              "      <th></th>\n",
              "      <th>erythema</th>\n",
              "      <th>scaling</th>\n",
              "      <th>definite_borders</th>\n",
              "      <th>itching</th>\n",
              "      <th>koebner_phenomenon</th>\n",
              "      <th>polygonal_papules</th>\n",
              "      <th>follicular_papules</th>\n",
              "      <th>oral_mucosal_involvement</th>\n",
              "      <th>knee_and_elbow_involvement</th>\n",
              "      <th>scalp_involvement</th>\n",
              "      <th>family_history</th>\n",
              "      <th>melanin_incontinence</th>\n",
              "      <th>eosinophils_infiltrate</th>\n",
              "      <th>PNL_infiltrate</th>\n",
              "      <th>fibrosis_papillary_dermis</th>\n",
              "      <th>exocytosis</th>\n",
              "      <th>acanthosis</th>\n",
              "      <th>hyperkeratosis</th>\n",
              "      <th>parakeratosis</th>\n",
              "      <th>clubbing_rete_ridges</th>\n",
              "      <th>elongation_rete_ridges</th>\n",
              "      <th>thinning_suprapapillary_epidermis</th>\n",
              "      <th>spongiform_pustule</th>\n",
              "      <th>munro_microabcess</th>\n",
              "      <th>focal_hypergranulosis</th>\n",
              "      <th>disappearance_granular_layer</th>\n",
              "      <th>vacuolisation_damage_basal_layer</th>\n",
              "      <th>spongiosis</th>\n",
              "      <th>saw_tooth_appearance_retes</th>\n",
              "      <th>follicular_horn_plug</th>\n",
              "      <th>perifollicular_parakeratosis</th>\n",
              "      <th>inflammatory_mononuclear_infiltrate</th>\n",
              "      <th>band_like_infiltrate</th>\n",
              "      <th>class</th>\n",
              "    </tr>\n",
              "  </thead>\n",
              "  <tbody>\n",
              "    <tr>\n",
              "      <th>count</th>\n",
              "      <td>366.000000</td>\n",
              "      <td>366.000000</td>\n",
              "      <td>366.000000</td>\n",
              "      <td>366.000000</td>\n",
              "      <td>366.000000</td>\n",
              "      <td>366.000000</td>\n",
              "      <td>366.000000</td>\n",
              "      <td>366.000000</td>\n",
              "      <td>366.000000</td>\n",
              "      <td>366.000000</td>\n",
              "      <td>366.000000</td>\n",
              "      <td>366.000000</td>\n",
              "      <td>366.000000</td>\n",
              "      <td>366.000000</td>\n",
              "      <td>366.000000</td>\n",
              "      <td>366.000000</td>\n",
              "      <td>366.000000</td>\n",
              "      <td>366.000000</td>\n",
              "      <td>366.000000</td>\n",
              "      <td>366.000000</td>\n",
              "      <td>366.000000</td>\n",
              "      <td>366.000000</td>\n",
              "      <td>366.000000</td>\n",
              "      <td>366.000000</td>\n",
              "      <td>366.000000</td>\n",
              "      <td>366.000000</td>\n",
              "      <td>366.000000</td>\n",
              "      <td>366.000000</td>\n",
              "      <td>366.000000</td>\n",
              "      <td>366.000000</td>\n",
              "      <td>366.000000</td>\n",
              "      <td>366.000000</td>\n",
              "      <td>366.000000</td>\n",
              "      <td>366.000000</td>\n",
              "    </tr>\n",
              "    <tr>\n",
              "      <th>mean</th>\n",
              "      <td>2.068306</td>\n",
              "      <td>1.795082</td>\n",
              "      <td>1.549180</td>\n",
              "      <td>1.366120</td>\n",
              "      <td>0.633880</td>\n",
              "      <td>0.448087</td>\n",
              "      <td>0.166667</td>\n",
              "      <td>0.377049</td>\n",
              "      <td>0.614754</td>\n",
              "      <td>0.519126</td>\n",
              "      <td>0.125683</td>\n",
              "      <td>0.404372</td>\n",
              "      <td>0.139344</td>\n",
              "      <td>0.546448</td>\n",
              "      <td>0.336066</td>\n",
              "      <td>1.368852</td>\n",
              "      <td>1.956284</td>\n",
              "      <td>0.527322</td>\n",
              "      <td>1.289617</td>\n",
              "      <td>0.663934</td>\n",
              "      <td>0.991803</td>\n",
              "      <td>0.633880</td>\n",
              "      <td>0.295082</td>\n",
              "      <td>0.363388</td>\n",
              "      <td>0.393443</td>\n",
              "      <td>0.464481</td>\n",
              "      <td>0.456284</td>\n",
              "      <td>0.953552</td>\n",
              "      <td>0.453552</td>\n",
              "      <td>0.103825</td>\n",
              "      <td>0.114754</td>\n",
              "      <td>1.866120</td>\n",
              "      <td>0.554645</td>\n",
              "      <td>2.803279</td>\n",
              "    </tr>\n",
              "    <tr>\n",
              "      <th>std</th>\n",
              "      <td>0.664753</td>\n",
              "      <td>0.701527</td>\n",
              "      <td>0.907525</td>\n",
              "      <td>1.138299</td>\n",
              "      <td>0.908016</td>\n",
              "      <td>0.957327</td>\n",
              "      <td>0.570588</td>\n",
              "      <td>0.834147</td>\n",
              "      <td>0.982979</td>\n",
              "      <td>0.905639</td>\n",
              "      <td>0.331946</td>\n",
              "      <td>0.869818</td>\n",
              "      <td>0.411790</td>\n",
              "      <td>0.815451</td>\n",
              "      <td>0.853139</td>\n",
              "      <td>1.104418</td>\n",
              "      <td>0.712512</td>\n",
              "      <td>0.757116</td>\n",
              "      <td>0.917562</td>\n",
              "      <td>1.056829</td>\n",
              "      <td>1.162161</td>\n",
              "      <td>1.034924</td>\n",
              "      <td>0.670578</td>\n",
              "      <td>0.759721</td>\n",
              "      <td>0.849406</td>\n",
              "      <td>0.864899</td>\n",
              "      <td>0.954873</td>\n",
              "      <td>1.130172</td>\n",
              "      <td>0.954744</td>\n",
              "      <td>0.450433</td>\n",
              "      <td>0.488723</td>\n",
              "      <td>0.726108</td>\n",
              "      <td>1.105908</td>\n",
              "      <td>1.597803</td>\n",
              "    </tr>\n",
              "    <tr>\n",
              "      <th>min</th>\n",
              "      <td>0.000000</td>\n",
              "      <td>0.000000</td>\n",
              "      <td>0.000000</td>\n",
              "      <td>0.000000</td>\n",
              "      <td>0.000000</td>\n",
              "      <td>0.000000</td>\n",
              "      <td>0.000000</td>\n",
              "      <td>0.000000</td>\n",
              "      <td>0.000000</td>\n",
              "      <td>0.000000</td>\n",
              "      <td>0.000000</td>\n",
              "      <td>0.000000</td>\n",
              "      <td>0.000000</td>\n",
              "      <td>0.000000</td>\n",
              "      <td>0.000000</td>\n",
              "      <td>0.000000</td>\n",
              "      <td>0.000000</td>\n",
              "      <td>0.000000</td>\n",
              "      <td>0.000000</td>\n",
              "      <td>0.000000</td>\n",
              "      <td>0.000000</td>\n",
              "      <td>0.000000</td>\n",
              "      <td>0.000000</td>\n",
              "      <td>0.000000</td>\n",
              "      <td>0.000000</td>\n",
              "      <td>0.000000</td>\n",
              "      <td>0.000000</td>\n",
              "      <td>0.000000</td>\n",
              "      <td>0.000000</td>\n",
              "      <td>0.000000</td>\n",
              "      <td>0.000000</td>\n",
              "      <td>0.000000</td>\n",
              "      <td>0.000000</td>\n",
              "      <td>1.000000</td>\n",
              "    </tr>\n",
              "    <tr>\n",
              "      <th>25%</th>\n",
              "      <td>2.000000</td>\n",
              "      <td>1.000000</td>\n",
              "      <td>1.000000</td>\n",
              "      <td>0.000000</td>\n",
              "      <td>0.000000</td>\n",
              "      <td>0.000000</td>\n",
              "      <td>0.000000</td>\n",
              "      <td>0.000000</td>\n",
              "      <td>0.000000</td>\n",
              "      <td>0.000000</td>\n",
              "      <td>0.000000</td>\n",
              "      <td>0.000000</td>\n",
              "      <td>0.000000</td>\n",
              "      <td>0.000000</td>\n",
              "      <td>0.000000</td>\n",
              "      <td>0.000000</td>\n",
              "      <td>2.000000</td>\n",
              "      <td>0.000000</td>\n",
              "      <td>1.000000</td>\n",
              "      <td>0.000000</td>\n",
              "      <td>0.000000</td>\n",
              "      <td>0.000000</td>\n",
              "      <td>0.000000</td>\n",
              "      <td>0.000000</td>\n",
              "      <td>0.000000</td>\n",
              "      <td>0.000000</td>\n",
              "      <td>0.000000</td>\n",
              "      <td>0.000000</td>\n",
              "      <td>0.000000</td>\n",
              "      <td>0.000000</td>\n",
              "      <td>0.000000</td>\n",
              "      <td>1.000000</td>\n",
              "      <td>0.000000</td>\n",
              "      <td>1.000000</td>\n",
              "    </tr>\n",
              "    <tr>\n",
              "      <th>50%</th>\n",
              "      <td>2.000000</td>\n",
              "      <td>2.000000</td>\n",
              "      <td>2.000000</td>\n",
              "      <td>1.000000</td>\n",
              "      <td>0.000000</td>\n",
              "      <td>0.000000</td>\n",
              "      <td>0.000000</td>\n",
              "      <td>0.000000</td>\n",
              "      <td>0.000000</td>\n",
              "      <td>0.000000</td>\n",
              "      <td>0.000000</td>\n",
              "      <td>0.000000</td>\n",
              "      <td>0.000000</td>\n",
              "      <td>0.000000</td>\n",
              "      <td>0.000000</td>\n",
              "      <td>2.000000</td>\n",
              "      <td>2.000000</td>\n",
              "      <td>0.000000</td>\n",
              "      <td>1.000000</td>\n",
              "      <td>0.000000</td>\n",
              "      <td>0.000000</td>\n",
              "      <td>0.000000</td>\n",
              "      <td>0.000000</td>\n",
              "      <td>0.000000</td>\n",
              "      <td>0.000000</td>\n",
              "      <td>0.000000</td>\n",
              "      <td>0.000000</td>\n",
              "      <td>0.000000</td>\n",
              "      <td>0.000000</td>\n",
              "      <td>0.000000</td>\n",
              "      <td>0.000000</td>\n",
              "      <td>2.000000</td>\n",
              "      <td>0.000000</td>\n",
              "      <td>3.000000</td>\n",
              "    </tr>\n",
              "    <tr>\n",
              "      <th>75%</th>\n",
              "      <td>2.000000</td>\n",
              "      <td>2.000000</td>\n",
              "      <td>2.000000</td>\n",
              "      <td>2.000000</td>\n",
              "      <td>1.000000</td>\n",
              "      <td>0.000000</td>\n",
              "      <td>0.000000</td>\n",
              "      <td>0.000000</td>\n",
              "      <td>1.000000</td>\n",
              "      <td>1.000000</td>\n",
              "      <td>0.000000</td>\n",
              "      <td>0.000000</td>\n",
              "      <td>0.000000</td>\n",
              "      <td>1.000000</td>\n",
              "      <td>0.000000</td>\n",
              "      <td>2.000000</td>\n",
              "      <td>2.000000</td>\n",
              "      <td>1.000000</td>\n",
              "      <td>2.000000</td>\n",
              "      <td>2.000000</td>\n",
              "      <td>2.000000</td>\n",
              "      <td>1.000000</td>\n",
              "      <td>0.000000</td>\n",
              "      <td>0.000000</td>\n",
              "      <td>0.000000</td>\n",
              "      <td>1.000000</td>\n",
              "      <td>0.000000</td>\n",
              "      <td>2.000000</td>\n",
              "      <td>0.000000</td>\n",
              "      <td>0.000000</td>\n",
              "      <td>0.000000</td>\n",
              "      <td>2.000000</td>\n",
              "      <td>0.000000</td>\n",
              "      <td>4.000000</td>\n",
              "    </tr>\n",
              "    <tr>\n",
              "      <th>max</th>\n",
              "      <td>3.000000</td>\n",
              "      <td>3.000000</td>\n",
              "      <td>3.000000</td>\n",
              "      <td>3.000000</td>\n",
              "      <td>3.000000</td>\n",
              "      <td>3.000000</td>\n",
              "      <td>3.000000</td>\n",
              "      <td>3.000000</td>\n",
              "      <td>3.000000</td>\n",
              "      <td>3.000000</td>\n",
              "      <td>1.000000</td>\n",
              "      <td>3.000000</td>\n",
              "      <td>2.000000</td>\n",
              "      <td>3.000000</td>\n",
              "      <td>3.000000</td>\n",
              "      <td>3.000000</td>\n",
              "      <td>3.000000</td>\n",
              "      <td>3.000000</td>\n",
              "      <td>3.000000</td>\n",
              "      <td>3.000000</td>\n",
              "      <td>3.000000</td>\n",
              "      <td>3.000000</td>\n",
              "      <td>3.000000</td>\n",
              "      <td>3.000000</td>\n",
              "      <td>3.000000</td>\n",
              "      <td>3.000000</td>\n",
              "      <td>3.000000</td>\n",
              "      <td>3.000000</td>\n",
              "      <td>3.000000</td>\n",
              "      <td>3.000000</td>\n",
              "      <td>3.000000</td>\n",
              "      <td>3.000000</td>\n",
              "      <td>3.000000</td>\n",
              "      <td>6.000000</td>\n",
              "    </tr>\n",
              "  </tbody>\n",
              "</table>\n",
              "</div>\n",
              "    <div class=\"colab-df-buttons\">\n",
              "\n",
              "  <div class=\"colab-df-container\">\n",
              "    <button class=\"colab-df-convert\" onclick=\"convertToInteractive('df-d1085c6b-7613-4d16-b4c1-4b6eb4e9e08b')\"\n",
              "            title=\"Convert this dataframe to an interactive table.\"\n",
              "            style=\"display:none;\">\n",
              "\n",
              "  <svg xmlns=\"http://www.w3.org/2000/svg\" height=\"24px\" viewBox=\"0 -960 960 960\">\n",
              "    <path d=\"M120-120v-720h720v720H120Zm60-500h600v-160H180v160Zm220 220h160v-160H400v160Zm0 220h160v-160H400v160ZM180-400h160v-160H180v160Zm440 0h160v-160H620v160ZM180-180h160v-160H180v160Zm440 0h160v-160H620v160Z\"/>\n",
              "  </svg>\n",
              "    </button>\n",
              "\n",
              "  <style>\n",
              "    .colab-df-container {\n",
              "      display:flex;\n",
              "      gap: 12px;\n",
              "    }\n",
              "\n",
              "    .colab-df-convert {\n",
              "      background-color: #E8F0FE;\n",
              "      border: none;\n",
              "      border-radius: 50%;\n",
              "      cursor: pointer;\n",
              "      display: none;\n",
              "      fill: #1967D2;\n",
              "      height: 32px;\n",
              "      padding: 0 0 0 0;\n",
              "      width: 32px;\n",
              "    }\n",
              "\n",
              "    .colab-df-convert:hover {\n",
              "      background-color: #E2EBFA;\n",
              "      box-shadow: 0px 1px 2px rgba(60, 64, 67, 0.3), 0px 1px 3px 1px rgba(60, 64, 67, 0.15);\n",
              "      fill: #174EA6;\n",
              "    }\n",
              "\n",
              "    .colab-df-buttons div {\n",
              "      margin-bottom: 4px;\n",
              "    }\n",
              "\n",
              "    [theme=dark] .colab-df-convert {\n",
              "      background-color: #3B4455;\n",
              "      fill: #D2E3FC;\n",
              "    }\n",
              "\n",
              "    [theme=dark] .colab-df-convert:hover {\n",
              "      background-color: #434B5C;\n",
              "      box-shadow: 0px 1px 3px 1px rgba(0, 0, 0, 0.15);\n",
              "      filter: drop-shadow(0px 1px 2px rgba(0, 0, 0, 0.3));\n",
              "      fill: #FFFFFF;\n",
              "    }\n",
              "  </style>\n",
              "\n",
              "    <script>\n",
              "      const buttonEl =\n",
              "        document.querySelector('#df-d1085c6b-7613-4d16-b4c1-4b6eb4e9e08b button.colab-df-convert');\n",
              "      buttonEl.style.display =\n",
              "        google.colab.kernel.accessAllowed ? 'block' : 'none';\n",
              "\n",
              "      async function convertToInteractive(key) {\n",
              "        const element = document.querySelector('#df-d1085c6b-7613-4d16-b4c1-4b6eb4e9e08b');\n",
              "        const dataTable =\n",
              "          await google.colab.kernel.invokeFunction('convertToInteractive',\n",
              "                                                    [key], {});\n",
              "        if (!dataTable) return;\n",
              "\n",
              "        const docLinkHtml = 'Like what you see? Visit the ' +\n",
              "          '<a target=\"_blank\" href=https://colab.research.google.com/notebooks/data_table.ipynb>data table notebook</a>'\n",
              "          + ' to learn more about interactive tables.';\n",
              "        element.innerHTML = '';\n",
              "        dataTable['output_type'] = 'display_data';\n",
              "        await google.colab.output.renderOutput(dataTable, element);\n",
              "        const docLink = document.createElement('div');\n",
              "        docLink.innerHTML = docLinkHtml;\n",
              "        element.appendChild(docLink);\n",
              "      }\n",
              "    </script>\n",
              "  </div>\n",
              "\n",
              "\n",
              "<div id=\"df-ac9a8dfa-3303-471e-a2e7-63ce3441b559\">\n",
              "  <button class=\"colab-df-quickchart\" onclick=\"quickchart('df-ac9a8dfa-3303-471e-a2e7-63ce3441b559')\"\n",
              "            title=\"Suggest charts\"\n",
              "            style=\"display:none;\">\n",
              "\n",
              "<svg xmlns=\"http://www.w3.org/2000/svg\" height=\"24px\"viewBox=\"0 0 24 24\"\n",
              "     width=\"24px\">\n",
              "    <g>\n",
              "        <path d=\"M19 3H5c-1.1 0-2 .9-2 2v14c0 1.1.9 2 2 2h14c1.1 0 2-.9 2-2V5c0-1.1-.9-2-2-2zM9 17H7v-7h2v7zm4 0h-2V7h2v10zm4 0h-2v-4h2v4z\"/>\n",
              "    </g>\n",
              "</svg>\n",
              "  </button>\n",
              "\n",
              "<style>\n",
              "  .colab-df-quickchart {\n",
              "      --bg-color: #E8F0FE;\n",
              "      --fill-color: #1967D2;\n",
              "      --hover-bg-color: #E2EBFA;\n",
              "      --hover-fill-color: #174EA6;\n",
              "      --disabled-fill-color: #AAA;\n",
              "      --disabled-bg-color: #DDD;\n",
              "  }\n",
              "\n",
              "  [theme=dark] .colab-df-quickchart {\n",
              "      --bg-color: #3B4455;\n",
              "      --fill-color: #D2E3FC;\n",
              "      --hover-bg-color: #434B5C;\n",
              "      --hover-fill-color: #FFFFFF;\n",
              "      --disabled-bg-color: #3B4455;\n",
              "      --disabled-fill-color: #666;\n",
              "  }\n",
              "\n",
              "  .colab-df-quickchart {\n",
              "    background-color: var(--bg-color);\n",
              "    border: none;\n",
              "    border-radius: 50%;\n",
              "    cursor: pointer;\n",
              "    display: none;\n",
              "    fill: var(--fill-color);\n",
              "    height: 32px;\n",
              "    padding: 0;\n",
              "    width: 32px;\n",
              "  }\n",
              "\n",
              "  .colab-df-quickchart:hover {\n",
              "    background-color: var(--hover-bg-color);\n",
              "    box-shadow: 0 1px 2px rgba(60, 64, 67, 0.3), 0 1px 3px 1px rgba(60, 64, 67, 0.15);\n",
              "    fill: var(--button-hover-fill-color);\n",
              "  }\n",
              "\n",
              "  .colab-df-quickchart-complete:disabled,\n",
              "  .colab-df-quickchart-complete:disabled:hover {\n",
              "    background-color: var(--disabled-bg-color);\n",
              "    fill: var(--disabled-fill-color);\n",
              "    box-shadow: none;\n",
              "  }\n",
              "\n",
              "  .colab-df-spinner {\n",
              "    border: 2px solid var(--fill-color);\n",
              "    border-color: transparent;\n",
              "    border-bottom-color: var(--fill-color);\n",
              "    animation:\n",
              "      spin 1s steps(1) infinite;\n",
              "  }\n",
              "\n",
              "  @keyframes spin {\n",
              "    0% {\n",
              "      border-color: transparent;\n",
              "      border-bottom-color: var(--fill-color);\n",
              "      border-left-color: var(--fill-color);\n",
              "    }\n",
              "    20% {\n",
              "      border-color: transparent;\n",
              "      border-left-color: var(--fill-color);\n",
              "      border-top-color: var(--fill-color);\n",
              "    }\n",
              "    30% {\n",
              "      border-color: transparent;\n",
              "      border-left-color: var(--fill-color);\n",
              "      border-top-color: var(--fill-color);\n",
              "      border-right-color: var(--fill-color);\n",
              "    }\n",
              "    40% {\n",
              "      border-color: transparent;\n",
              "      border-right-color: var(--fill-color);\n",
              "      border-top-color: var(--fill-color);\n",
              "    }\n",
              "    60% {\n",
              "      border-color: transparent;\n",
              "      border-right-color: var(--fill-color);\n",
              "    }\n",
              "    80% {\n",
              "      border-color: transparent;\n",
              "      border-right-color: var(--fill-color);\n",
              "      border-bottom-color: var(--fill-color);\n",
              "    }\n",
              "    90% {\n",
              "      border-color: transparent;\n",
              "      border-bottom-color: var(--fill-color);\n",
              "    }\n",
              "  }\n",
              "</style>\n",
              "\n",
              "  <script>\n",
              "    async function quickchart(key) {\n",
              "      const quickchartButtonEl =\n",
              "        document.querySelector('#' + key + ' button');\n",
              "      quickchartButtonEl.disabled = true;  // To prevent multiple clicks.\n",
              "      quickchartButtonEl.classList.add('colab-df-spinner');\n",
              "      try {\n",
              "        const charts = await google.colab.kernel.invokeFunction(\n",
              "            'suggestCharts', [key], {});\n",
              "      } catch (error) {\n",
              "        console.error('Error during call to suggestCharts:', error);\n",
              "      }\n",
              "      quickchartButtonEl.classList.remove('colab-df-spinner');\n",
              "      quickchartButtonEl.classList.add('colab-df-quickchart-complete');\n",
              "    }\n",
              "    (() => {\n",
              "      let quickchartButtonEl =\n",
              "        document.querySelector('#df-ac9a8dfa-3303-471e-a2e7-63ce3441b559 button');\n",
              "      quickchartButtonEl.style.display =\n",
              "        google.colab.kernel.accessAllowed ? 'block' : 'none';\n",
              "    })();\n",
              "  </script>\n",
              "</div>\n",
              "\n",
              "    </div>\n",
              "  </div>\n"
            ],
            "application/vnd.google.colaboratory.intrinsic+json": {
              "type": "dataframe"
            }
          },
          "metadata": {},
          "execution_count": 9
        }
      ]
    },
    {
      "cell_type": "code",
      "source": [
        "targetvalue = df['class'].value_counts()\n",
        "fig = px.pie(df,names = targetvalue.index, values = targetvalue.values,title = 'Class Distribution')\n",
        "fig.show()"
      ],
      "metadata": {
        "colab": {
          "base_uri": "https://localhost:8080/",
          "height": 542
        },
        "id": "QJ4pIaOBqHsJ",
        "outputId": "9faa1207-ae92-446c-9ef2-d6434eded8a2"
      },
      "execution_count": null,
      "outputs": [
        {
          "output_type": "display_data",
          "data": {
            "text/html": [
              "<html>\n",
              "<head><meta charset=\"utf-8\" /></head>\n",
              "<body>\n",
              "    <div>            <script src=\"https://cdnjs.cloudflare.com/ajax/libs/mathjax/2.7.5/MathJax.js?config=TeX-AMS-MML_SVG\"></script><script type=\"text/javascript\">if (window.MathJax && window.MathJax.Hub && window.MathJax.Hub.Config) {window.MathJax.Hub.Config({SVG: {font: \"STIX-Web\"}});}</script>                <script type=\"text/javascript\">window.PlotlyConfig = {MathJaxConfig: 'local'};</script>\n",
              "        <script charset=\"utf-8\" src=\"https://cdn.plot.ly/plotly-2.24.1.min.js\"></script>                <div id=\"edcc2d24-0afe-4b99-8b7e-873ff20e6e7d\" class=\"plotly-graph-div\" style=\"height:525px; width:100%;\"></div>            <script type=\"text/javascript\">                                    window.PLOTLYENV=window.PLOTLYENV || {};                                    if (document.getElementById(\"edcc2d24-0afe-4b99-8b7e-873ff20e6e7d\")) {                    Plotly.newPlot(                        \"edcc2d24-0afe-4b99-8b7e-873ff20e6e7d\",                        [{\"domain\":{\"x\":[0.0,1.0],\"y\":[0.0,1.0]},\"hovertemplate\":\"label=%{label}\\u003cbr\\u003evalue=%{value}\\u003cextra\\u003e\\u003c\\u002fextra\\u003e\",\"labels\":[1,3,2,5,4,6],\"legendgroup\":\"\",\"name\":\"\",\"showlegend\":true,\"values\":[112,72,61,52,49,20],\"type\":\"pie\"}],                        {\"template\":{\"data\":{\"histogram2dcontour\":[{\"type\":\"histogram2dcontour\",\"colorbar\":{\"outlinewidth\":0,\"ticks\":\"\"},\"colorscale\":[[0.0,\"#0d0887\"],[0.1111111111111111,\"#46039f\"],[0.2222222222222222,\"#7201a8\"],[0.3333333333333333,\"#9c179e\"],[0.4444444444444444,\"#bd3786\"],[0.5555555555555556,\"#d8576b\"],[0.6666666666666666,\"#ed7953\"],[0.7777777777777778,\"#fb9f3a\"],[0.8888888888888888,\"#fdca26\"],[1.0,\"#f0f921\"]]}],\"choropleth\":[{\"type\":\"choropleth\",\"colorbar\":{\"outlinewidth\":0,\"ticks\":\"\"}}],\"histogram2d\":[{\"type\":\"histogram2d\",\"colorbar\":{\"outlinewidth\":0,\"ticks\":\"\"},\"colorscale\":[[0.0,\"#0d0887\"],[0.1111111111111111,\"#46039f\"],[0.2222222222222222,\"#7201a8\"],[0.3333333333333333,\"#9c179e\"],[0.4444444444444444,\"#bd3786\"],[0.5555555555555556,\"#d8576b\"],[0.6666666666666666,\"#ed7953\"],[0.7777777777777778,\"#fb9f3a\"],[0.8888888888888888,\"#fdca26\"],[1.0,\"#f0f921\"]]}],\"heatmap\":[{\"type\":\"heatmap\",\"colorbar\":{\"outlinewidth\":0,\"ticks\":\"\"},\"colorscale\":[[0.0,\"#0d0887\"],[0.1111111111111111,\"#46039f\"],[0.2222222222222222,\"#7201a8\"],[0.3333333333333333,\"#9c179e\"],[0.4444444444444444,\"#bd3786\"],[0.5555555555555556,\"#d8576b\"],[0.6666666666666666,\"#ed7953\"],[0.7777777777777778,\"#fb9f3a\"],[0.8888888888888888,\"#fdca26\"],[1.0,\"#f0f921\"]]}],\"heatmapgl\":[{\"type\":\"heatmapgl\",\"colorbar\":{\"outlinewidth\":0,\"ticks\":\"\"},\"colorscale\":[[0.0,\"#0d0887\"],[0.1111111111111111,\"#46039f\"],[0.2222222222222222,\"#7201a8\"],[0.3333333333333333,\"#9c179e\"],[0.4444444444444444,\"#bd3786\"],[0.5555555555555556,\"#d8576b\"],[0.6666666666666666,\"#ed7953\"],[0.7777777777777778,\"#fb9f3a\"],[0.8888888888888888,\"#fdca26\"],[1.0,\"#f0f921\"]]}],\"contourcarpet\":[{\"type\":\"contourcarpet\",\"colorbar\":{\"outlinewidth\":0,\"ticks\":\"\"}}],\"contour\":[{\"type\":\"contour\",\"colorbar\":{\"outlinewidth\":0,\"ticks\":\"\"},\"colorscale\":[[0.0,\"#0d0887\"],[0.1111111111111111,\"#46039f\"],[0.2222222222222222,\"#7201a8\"],[0.3333333333333333,\"#9c179e\"],[0.4444444444444444,\"#bd3786\"],[0.5555555555555556,\"#d8576b\"],[0.6666666666666666,\"#ed7953\"],[0.7777777777777778,\"#fb9f3a\"],[0.8888888888888888,\"#fdca26\"],[1.0,\"#f0f921\"]]}],\"surface\":[{\"type\":\"surface\",\"colorbar\":{\"outlinewidth\":0,\"ticks\":\"\"},\"colorscale\":[[0.0,\"#0d0887\"],[0.1111111111111111,\"#46039f\"],[0.2222222222222222,\"#7201a8\"],[0.3333333333333333,\"#9c179e\"],[0.4444444444444444,\"#bd3786\"],[0.5555555555555556,\"#d8576b\"],[0.6666666666666666,\"#ed7953\"],[0.7777777777777778,\"#fb9f3a\"],[0.8888888888888888,\"#fdca26\"],[1.0,\"#f0f921\"]]}],\"mesh3d\":[{\"type\":\"mesh3d\",\"colorbar\":{\"outlinewidth\":0,\"ticks\":\"\"}}],\"scatter\":[{\"fillpattern\":{\"fillmode\":\"overlay\",\"size\":10,\"solidity\":0.2},\"type\":\"scatter\"}],\"parcoords\":[{\"type\":\"parcoords\",\"line\":{\"colorbar\":{\"outlinewidth\":0,\"ticks\":\"\"}}}],\"scatterpolargl\":[{\"type\":\"scatterpolargl\",\"marker\":{\"colorbar\":{\"outlinewidth\":0,\"ticks\":\"\"}}}],\"bar\":[{\"error_x\":{\"color\":\"#2a3f5f\"},\"error_y\":{\"color\":\"#2a3f5f\"},\"marker\":{\"line\":{\"color\":\"#E5ECF6\",\"width\":0.5},\"pattern\":{\"fillmode\":\"overlay\",\"size\":10,\"solidity\":0.2}},\"type\":\"bar\"}],\"scattergeo\":[{\"type\":\"scattergeo\",\"marker\":{\"colorbar\":{\"outlinewidth\":0,\"ticks\":\"\"}}}],\"scatterpolar\":[{\"type\":\"scatterpolar\",\"marker\":{\"colorbar\":{\"outlinewidth\":0,\"ticks\":\"\"}}}],\"histogram\":[{\"marker\":{\"pattern\":{\"fillmode\":\"overlay\",\"size\":10,\"solidity\":0.2}},\"type\":\"histogram\"}],\"scattergl\":[{\"type\":\"scattergl\",\"marker\":{\"colorbar\":{\"outlinewidth\":0,\"ticks\":\"\"}}}],\"scatter3d\":[{\"type\":\"scatter3d\",\"line\":{\"colorbar\":{\"outlinewidth\":0,\"ticks\":\"\"}},\"marker\":{\"colorbar\":{\"outlinewidth\":0,\"ticks\":\"\"}}}],\"scattermapbox\":[{\"type\":\"scattermapbox\",\"marker\":{\"colorbar\":{\"outlinewidth\":0,\"ticks\":\"\"}}}],\"scatterternary\":[{\"type\":\"scatterternary\",\"marker\":{\"colorbar\":{\"outlinewidth\":0,\"ticks\":\"\"}}}],\"scattercarpet\":[{\"type\":\"scattercarpet\",\"marker\":{\"colorbar\":{\"outlinewidth\":0,\"ticks\":\"\"}}}],\"carpet\":[{\"aaxis\":{\"endlinecolor\":\"#2a3f5f\",\"gridcolor\":\"white\",\"linecolor\":\"white\",\"minorgridcolor\":\"white\",\"startlinecolor\":\"#2a3f5f\"},\"baxis\":{\"endlinecolor\":\"#2a3f5f\",\"gridcolor\":\"white\",\"linecolor\":\"white\",\"minorgridcolor\":\"white\",\"startlinecolor\":\"#2a3f5f\"},\"type\":\"carpet\"}],\"table\":[{\"cells\":{\"fill\":{\"color\":\"#EBF0F8\"},\"line\":{\"color\":\"white\"}},\"header\":{\"fill\":{\"color\":\"#C8D4E3\"},\"line\":{\"color\":\"white\"}},\"type\":\"table\"}],\"barpolar\":[{\"marker\":{\"line\":{\"color\":\"#E5ECF6\",\"width\":0.5},\"pattern\":{\"fillmode\":\"overlay\",\"size\":10,\"solidity\":0.2}},\"type\":\"barpolar\"}],\"pie\":[{\"automargin\":true,\"type\":\"pie\"}]},\"layout\":{\"autotypenumbers\":\"strict\",\"colorway\":[\"#636efa\",\"#EF553B\",\"#00cc96\",\"#ab63fa\",\"#FFA15A\",\"#19d3f3\",\"#FF6692\",\"#B6E880\",\"#FF97FF\",\"#FECB52\"],\"font\":{\"color\":\"#2a3f5f\"},\"hovermode\":\"closest\",\"hoverlabel\":{\"align\":\"left\"},\"paper_bgcolor\":\"white\",\"plot_bgcolor\":\"#E5ECF6\",\"polar\":{\"bgcolor\":\"#E5ECF6\",\"angularaxis\":{\"gridcolor\":\"white\",\"linecolor\":\"white\",\"ticks\":\"\"},\"radialaxis\":{\"gridcolor\":\"white\",\"linecolor\":\"white\",\"ticks\":\"\"}},\"ternary\":{\"bgcolor\":\"#E5ECF6\",\"aaxis\":{\"gridcolor\":\"white\",\"linecolor\":\"white\",\"ticks\":\"\"},\"baxis\":{\"gridcolor\":\"white\",\"linecolor\":\"white\",\"ticks\":\"\"},\"caxis\":{\"gridcolor\":\"white\",\"linecolor\":\"white\",\"ticks\":\"\"}},\"coloraxis\":{\"colorbar\":{\"outlinewidth\":0,\"ticks\":\"\"}},\"colorscale\":{\"sequential\":[[0.0,\"#0d0887\"],[0.1111111111111111,\"#46039f\"],[0.2222222222222222,\"#7201a8\"],[0.3333333333333333,\"#9c179e\"],[0.4444444444444444,\"#bd3786\"],[0.5555555555555556,\"#d8576b\"],[0.6666666666666666,\"#ed7953\"],[0.7777777777777778,\"#fb9f3a\"],[0.8888888888888888,\"#fdca26\"],[1.0,\"#f0f921\"]],\"sequentialminus\":[[0.0,\"#0d0887\"],[0.1111111111111111,\"#46039f\"],[0.2222222222222222,\"#7201a8\"],[0.3333333333333333,\"#9c179e\"],[0.4444444444444444,\"#bd3786\"],[0.5555555555555556,\"#d8576b\"],[0.6666666666666666,\"#ed7953\"],[0.7777777777777778,\"#fb9f3a\"],[0.8888888888888888,\"#fdca26\"],[1.0,\"#f0f921\"]],\"diverging\":[[0,\"#8e0152\"],[0.1,\"#c51b7d\"],[0.2,\"#de77ae\"],[0.3,\"#f1b6da\"],[0.4,\"#fde0ef\"],[0.5,\"#f7f7f7\"],[0.6,\"#e6f5d0\"],[0.7,\"#b8e186\"],[0.8,\"#7fbc41\"],[0.9,\"#4d9221\"],[1,\"#276419\"]]},\"xaxis\":{\"gridcolor\":\"white\",\"linecolor\":\"white\",\"ticks\":\"\",\"title\":{\"standoff\":15},\"zerolinecolor\":\"white\",\"automargin\":true,\"zerolinewidth\":2},\"yaxis\":{\"gridcolor\":\"white\",\"linecolor\":\"white\",\"ticks\":\"\",\"title\":{\"standoff\":15},\"zerolinecolor\":\"white\",\"automargin\":true,\"zerolinewidth\":2},\"scene\":{\"xaxis\":{\"backgroundcolor\":\"#E5ECF6\",\"gridcolor\":\"white\",\"linecolor\":\"white\",\"showbackground\":true,\"ticks\":\"\",\"zerolinecolor\":\"white\",\"gridwidth\":2},\"yaxis\":{\"backgroundcolor\":\"#E5ECF6\",\"gridcolor\":\"white\",\"linecolor\":\"white\",\"showbackground\":true,\"ticks\":\"\",\"zerolinecolor\":\"white\",\"gridwidth\":2},\"zaxis\":{\"backgroundcolor\":\"#E5ECF6\",\"gridcolor\":\"white\",\"linecolor\":\"white\",\"showbackground\":true,\"ticks\":\"\",\"zerolinecolor\":\"white\",\"gridwidth\":2}},\"shapedefaults\":{\"line\":{\"color\":\"#2a3f5f\"}},\"annotationdefaults\":{\"arrowcolor\":\"#2a3f5f\",\"arrowhead\":0,\"arrowwidth\":1},\"geo\":{\"bgcolor\":\"white\",\"landcolor\":\"#E5ECF6\",\"subunitcolor\":\"white\",\"showland\":true,\"showlakes\":true,\"lakecolor\":\"white\"},\"title\":{\"x\":0.05},\"mapbox\":{\"style\":\"light\"}}},\"legend\":{\"tracegroupgap\":0},\"title\":{\"text\":\"Class Distribution\"}},                        {\"responsive\": true}                    ).then(function(){\n",
              "                            \n",
              "var gd = document.getElementById('edcc2d24-0afe-4b99-8b7e-873ff20e6e7d');\n",
              "var x = new MutationObserver(function (mutations, observer) {{\n",
              "        var display = window.getComputedStyle(gd).display;\n",
              "        if (!display || display === 'none') {{\n",
              "            console.log([gd, 'removed!']);\n",
              "            Plotly.purge(gd);\n",
              "            observer.disconnect();\n",
              "        }}\n",
              "}});\n",
              "\n",
              "// Listen for the removal of the full notebook cells\n",
              "var notebookContainer = gd.closest('#notebook-container');\n",
              "if (notebookContainer) {{\n",
              "    x.observe(notebookContainer, {childList: true});\n",
              "}}\n",
              "\n",
              "// Listen for the clearing of the current output cell\n",
              "var outputEl = gd.closest('.output');\n",
              "if (outputEl) {{\n",
              "    x.observe(outputEl, {childList: true});\n",
              "}}\n",
              "\n",
              "                        })                };                            </script>        </div>\n",
              "</body>\n",
              "</html>"
            ]
          },
          "metadata": {}
        }
      ]
    },
    {
      "cell_type": "code",
      "source": [
        "df['age'] = pd.to_numeric(df['age'], errors='coerce')"
      ],
      "metadata": {
        "id": "ziVfdsIpqHuj"
      },
      "execution_count": null,
      "outputs": []
    },
    {
      "cell_type": "code",
      "source": [
        "## find the NULL values for each columns\n",
        "df.isna().sum()"
      ],
      "metadata": {
        "colab": {
          "base_uri": "https://localhost:8080/"
        },
        "id": "3xVgIP65qHw4",
        "outputId": "a0420946-80a4-40da-9afa-6c84ea78358b"
      },
      "execution_count": null,
      "outputs": [
        {
          "output_type": "execute_result",
          "data": {
            "text/plain": [
              "erythema                               0\n",
              "scaling                                0\n",
              "definite_borders                       0\n",
              "itching                                0\n",
              "koebner_phenomenon                     0\n",
              "polygonal_papules                      0\n",
              "follicular_papules                     0\n",
              "oral_mucosal_involvement               0\n",
              "knee_and_elbow_involvement             0\n",
              "scalp_involvement                      0\n",
              "family_history                         0\n",
              "melanin_incontinence                   0\n",
              "eosinophils_infiltrate                 0\n",
              "PNL_infiltrate                         0\n",
              "fibrosis_papillary_dermis              0\n",
              "exocytosis                             0\n",
              "acanthosis                             0\n",
              "hyperkeratosis                         0\n",
              "parakeratosis                          0\n",
              "clubbing_rete_ridges                   0\n",
              "elongation_rete_ridges                 0\n",
              "thinning_suprapapillary_epidermis      0\n",
              "spongiform_pustule                     0\n",
              "munro_microabcess                      0\n",
              "focal_hypergranulosis                  0\n",
              "disappearance_granular_layer           0\n",
              "vacuolisation_damage_basal_layer       0\n",
              "spongiosis                             0\n",
              "saw_tooth_appearance_retes             0\n",
              "follicular_horn_plug                   0\n",
              "perifollicular_parakeratosis           0\n",
              "inflammatory_mononuclear_infiltrate    0\n",
              "band_like_infiltrate                   0\n",
              "age                                    0\n",
              "class                                  0\n",
              "dtype: int64"
            ]
          },
          "metadata": {},
          "execution_count": 39
        }
      ]
    },
    {
      "cell_type": "code",
      "source": [
        "df.dropna(inplace = True)"
      ],
      "metadata": {
        "id": "u1oIVurYqHy-"
      },
      "execution_count": null,
      "outputs": []
    },
    {
      "cell_type": "code",
      "source": [
        "df.isna().sum()"
      ],
      "metadata": {
        "colab": {
          "base_uri": "https://localhost:8080/"
        },
        "id": "XCPwV6brqH1V",
        "outputId": "52143d2a-2d5d-425f-8525-404541a7501a"
      },
      "execution_count": null,
      "outputs": [
        {
          "output_type": "execute_result",
          "data": {
            "text/plain": [
              "erythema                               0\n",
              "scaling                                0\n",
              "definite_borders                       0\n",
              "itching                                0\n",
              "koebner_phenomenon                     0\n",
              "polygonal_papules                      0\n",
              "follicular_papules                     0\n",
              "oral_mucosal_involvement               0\n",
              "knee_and_elbow_involvement             0\n",
              "scalp_involvement                      0\n",
              "family_history                         0\n",
              "melanin_incontinence                   0\n",
              "eosinophils_infiltrate                 0\n",
              "PNL_infiltrate                         0\n",
              "fibrosis_papillary_dermis              0\n",
              "exocytosis                             0\n",
              "acanthosis                             0\n",
              "hyperkeratosis                         0\n",
              "parakeratosis                          0\n",
              "clubbing_rete_ridges                   0\n",
              "elongation_rete_ridges                 0\n",
              "thinning_suprapapillary_epidermis      0\n",
              "spongiform_pustule                     0\n",
              "munro_microabcess                      0\n",
              "focal_hypergranulosis                  0\n",
              "disappearance_granular_layer           0\n",
              "vacuolisation_damage_basal_layer       0\n",
              "spongiosis                             0\n",
              "saw_tooth_appearance_retes             0\n",
              "follicular_horn_plug                   0\n",
              "perifollicular_parakeratosis           0\n",
              "inflammatory_mononuclear_infiltrate    0\n",
              "band_like_infiltrate                   0\n",
              "age                                    0\n",
              "class                                  0\n",
              "dtype: int64"
            ]
          },
          "metadata": {},
          "execution_count": 41
        }
      ]
    },
    {
      "cell_type": "code",
      "source": [
        "data_updated = df.copy()"
      ],
      "metadata": {
        "id": "UaKPQlwKqH3V"
      },
      "execution_count": null,
      "outputs": []
    },
    {
      "cell_type": "code",
      "source": [
        "df.shape\n",
        "\n",
        "## (358, 35)"
      ],
      "metadata": {
        "colab": {
          "base_uri": "https://localhost:8080/"
        },
        "id": "aCuQjk3QKyZp",
        "outputId": "514ef56c-90d7-4d02-c162-7763ead91cf1"
      },
      "execution_count": null,
      "outputs": [
        {
          "output_type": "execute_result",
          "data": {
            "text/plain": [
              "(358, 35)"
            ]
          },
          "metadata": {},
          "execution_count": 43
        }
      ]
    },
    {
      "cell_type": "code",
      "source": [
        "data_updated.shape\n",
        "\n",
        "## (358, 35)"
      ],
      "metadata": {
        "colab": {
          "base_uri": "https://localhost:8080/"
        },
        "id": "HTZBwb5OKolT",
        "outputId": "c6baca78-5399-4d73-b1a2-1e10ba9691c1"
      },
      "execution_count": null,
      "outputs": [
        {
          "output_type": "execute_result",
          "data": {
            "text/plain": [
              "(358, 35)"
            ]
          },
          "metadata": {},
          "execution_count": 44
        }
      ]
    },
    {
      "cell_type": "code",
      "source": [
        "plt.figure(figsize=(5, 3))\n",
        "targetvalue.plot(kind='bar',color = 'orange',edgecolor='black')\n",
        "\n",
        "plt.xlabel('Class')\n",
        "plt.ylabel('Frequency')\n",
        "plt.title('Frequency of Each Class')\n"
      ],
      "metadata": {
        "colab": {
          "base_uri": "https://localhost:8080/",
          "height": 345
        },
        "id": "27gRyr72qH6u",
        "outputId": "4a5831dc-902c-478c-80d7-1092bd88b4f7"
      },
      "execution_count": null,
      "outputs": [
        {
          "output_type": "execute_result",
          "data": {
            "text/plain": [
              "Text(0.5, 1.0, 'Frequency of Each Class')"
            ]
          },
          "metadata": {},
          "execution_count": 45
        },
        {
          "output_type": "display_data",
          "data": {
            "text/plain": [
              "<Figure size 500x300 with 1 Axes>"
            ],
            "image/png": "[encoded data removed]"
          },
          "metadata": {}
        }
      ]
    },
    {
      "cell_type": "markdown",
      "source": [
        "#**Logistic Regression**"
      ],
      "metadata": {
        "id": "ZaJWAbc19ZeC"
      }
    },
    {
      "cell_type": "code",
      "source": [
        "from sklearn.linear_model import LogisticRegression"
      ],
      "metadata": {
        "id": "JNue_KWw9b09"
      },
      "execution_count": null,
      "outputs": []
    },
    {
      "cell_type": "code",
      "source": [
        "## Splitting the data into x and y and then using machine learning models to give the output\n",
        "\n",
        "x = data_updated.drop('class',axis=1)\n",
        "y = data_updated['class']\n",
        "x_train,x_test,y_train,y_test = train_test_split(x,y,test_size=0.2,random_state=22)"
      ],
      "metadata": {
        "id": "3GONRrFP9j62"
      },
      "execution_count": null,
      "outputs": []
    },
    {
      "cell_type": "code",
      "source": [
        "data_updated.shape"
      ],
      "metadata": {
        "colab": {
          "base_uri": "https://localhost:8080/"
        },
        "id": "ftYmJGx59j9C",
        "outputId": "efccc729-9c5a-4f54-8d02-c4f81125e996"
      },
      "execution_count": null,
      "outputs": [
        {
          "output_type": "execute_result",
          "data": {
            "text/plain": [
              "(358, 35)"
            ]
          },
          "metadata": {},
          "execution_count": 48
        }
      ]
    },
    {
      "cell_type": "code",
      "source": [
        "print(x_train.shape)\n",
        "print(x_test.shape)\n",
        "print(y_train.shape)\n",
        "print(y_test.shape)\n",
        "\n",
        "\n",
        "# (286, 34)\n",
        "# (72, 34)\n",
        "# (286,)\n",
        "# (72,)\n"
      ],
      "metadata": {
        "colab": {
          "base_uri": "https://localhost:8080/"
        },
        "id": "HBAPVBAx9j-z",
        "outputId": "5dd1d8ab-4a4c-476d-a056-7d7059943465"
      },
      "execution_count": null,
      "outputs": [
        {
          "output_type": "stream",
          "name": "stdout",
          "text": [
            "(286, 34)\n",
            "(72, 34)\n",
            "(286,)\n",
            "(72,)\n"
          ]
        }
      ]
    },
    {
      "cell_type": "code",
      "source": [
        "## Predicts the accuracy of the Logistic Regression ML Model\n",
        "\n",
        "Lr = LogisticRegression(max_iter=31000)\n",
        "Lr.fit(x_train,y_train)\n",
        "y_preds_lr= Lr.predict(x_test)\n",
        "print(accuracy_score(y_test,y_preds_lr)*100)\n",
        "\n",
        "## Accuracy: 98.61111111111111"
      ],
      "metadata": {
        "colab": {
          "base_uri": "https://localhost:8080/"
        },
        "id": "B-WzV-9T9kA3",
        "outputId": "9c7f43b3-8a7f-44ac-b5b9-660fb5a5f9ab"
      },
      "execution_count": null,
      "outputs": [
        {
          "output_type": "stream",
          "name": "stdout",
          "text": [
            "98.61111111111111\n"
          ]
        }
      ]
    },
    {
      "cell_type": "code",
      "source": [
        "y_preds_lr"
      ],
      "metadata": {
        "colab": {
          "base_uri": "https://localhost:8080/"
        },
        "id": "DmobKMt99kC4",
        "outputId": "fa60c032-40a5-4d01-dfd7-36da0c88f24a"
      },
      "execution_count": null,
      "outputs": [
        {
          "output_type": "execute_result",
          "data": {
            "text/plain": [
              "array([3, 4, 5, 5, 3, 2, 4, 1, 3, 2, 1, 1, 3, 2, 1, 1, 1, 4, 4, 4, 1, 1,\n",
              "       1, 4, 1, 6, 3, 1, 6, 1, 1, 1, 3, 1, 1, 1, 1, 1, 3, 3, 2, 1, 2, 6,\n",
              "       3, 1, 2, 1, 1, 2, 5, 1, 4, 1, 2, 6, 2, 1, 1, 4, 1, 1, 3, 1, 3, 5,\n",
              "       4, 4, 5, 5, 6, 6])"
            ]
          },
          "metadata": {},
          "execution_count": 51
        }
      ]
    },
    {
      "cell_type": "code",
      "source": [
        "y_test"
      ],
      "metadata": {
        "colab": {
          "base_uri": "https://localhost:8080/"
        },
        "id": "jg1dz0j79kFC",
        "outputId": "226ced0f-f9a9-4632-ccbd-14fb6d486f6d"
      },
      "execution_count": null,
      "outputs": [
        {
          "output_type": "execute_result",
          "data": {
            "text/plain": [
              "312    3\n",
              "168    4\n",
              "341    5\n",
              "204    5\n",
              "313    3\n",
              "      ..\n",
              "280    4\n",
              "354    5\n",
              "222    5\n",
              "184    6\n",
              "343    6\n",
              "Name: class, Length: 72, dtype: int64"
            ]
          },
          "metadata": {},
          "execution_count": 52
        }
      ]
    },
    {
      "cell_type": "markdown",
      "source": [],
      "metadata": {
        "id": "kNw2ed5YuHRe"
      }
    },
    {
      "cell_type": "markdown",
      "source": [
        " # **Decision Tree**"
      ],
      "metadata": {
        "id": "1gYboCDoJqkl"
      }
    },
    {
      "cell_type": "code",
      "source": [
        "from sklearn.ensemble import RandomForestClassifier\n",
        "from sklearn.tree import DecisionTreeClassifier"
      ],
      "metadata": {
        "id": "9b_uJBlR9kLe"
      },
      "execution_count": null,
      "outputs": []
    },
    {
      "cell_type": "code",
      "source": [
        "## ## Predicts the accuracy of the Decision Tree ML Model\n",
        "\n",
        "Dt = DecisionTreeClassifier()\n",
        "Dt.fit(x_train,y_train)\n",
        "y_preds_dt = Dt.predict(x_test)\n",
        "print(accuracy_score(y_test,y_preds_dt)*100)\n",
        "\n",
        "## Accuracy: 93.05555555555556"
      ],
      "metadata": {
        "id": "5-k5bjYb9kIE",
        "colab": {
          "base_uri": "https://localhost:8080/"
        },
        "outputId": "c796a102-bd82-44ba-ce65-a73bc6669a24"
      },
      "execution_count": null,
      "outputs": [
        {
          "output_type": "stream",
          "name": "stdout",
          "text": [
            "94.44444444444444\n"
          ]
        }
      ]
    },
    {
      "cell_type": "code",
      "source": [
        "y_test"
      ],
      "metadata": {
        "colab": {
          "base_uri": "https://localhost:8080/"
        },
        "id": "0E8Mc-cEMhTw",
        "outputId": "8c8dfcd9-39ae-4d5a-d713-7bb6b2fbd8ba"
      },
      "execution_count": null,
      "outputs": [
        {
          "output_type": "execute_result",
          "data": {
            "text/plain": [
              "312    3\n",
              "168    4\n",
              "341    5\n",
              "204    5\n",
              "313    3\n",
              "      ..\n",
              "280    4\n",
              "354    5\n",
              "222    5\n",
              "184    6\n",
              "343    6\n",
              "Name: class, Length: 72, dtype: int64"
            ]
          },
          "metadata": {},
          "execution_count": 55
        }
      ]
    },
    {
      "cell_type": "code",
      "source": [
        "y_preds_dt"
      ],
      "metadata": {
        "colab": {
          "base_uri": "https://localhost:8080/"
        },
        "id": "wUv4pK_dMlEJ",
        "outputId": "2ced801b-3593-4fca-d0d2-b3aa97b87966"
      },
      "execution_count": null,
      "outputs": [
        {
          "output_type": "execute_result",
          "data": {
            "text/plain": [
              "array([3, 4, 5, 5, 3, 2, 4, 1, 3, 2, 1, 1, 3, 2, 1, 1, 1, 4, 4, 4, 1, 1,\n",
              "       1, 4, 1, 6, 3, 1, 6, 1, 1, 1, 3, 1, 1, 1, 1, 1, 3, 3, 2, 1, 2, 6,\n",
              "       3, 1, 2, 1, 1, 4, 5, 1, 4, 1, 2, 1, 2, 1, 1, 4, 1, 1, 3, 1, 3, 5,\n",
              "       4, 4, 5, 5, 6, 2])"
            ]
          },
          "metadata": {},
          "execution_count": 56
        }
      ]
    },
    {
      "cell_type": "markdown",
      "source": [
        "# **Random Forest**"
      ],
      "metadata": {
        "id": "YRDXJ91GLY9d"
      }
    },
    {
      "cell_type": "code",
      "source": [
        "## Using Random Forest Algorith with no custom parameters\n",
        "\n",
        "Rf = RandomForestClassifier()\n",
        "Rf.fit(x_train,y_train)\n",
        "y_preds_Rf = Rf.predict(x_test)\n",
        "print(accuracy_score(y_test,y_preds_Rf)*100)\n",
        "\n",
        "## Accuracy: 98.61111111111111"
      ],
      "metadata": {
        "colab": {
          "base_uri": "https://localhost:8080/"
        },
        "id": "zDVlfCtZMH_h",
        "outputId": "b39c2138-ff2e-4169-f807-1bebca50f11d"
      },
      "execution_count": null,
      "outputs": [
        {
          "output_type": "stream",
          "name": "stdout",
          "text": [
            "97.22222222222221\n"
          ]
        }
      ]
    },
    {
      "cell_type": "code",
      "source": [
        "## Using Random Forest Algorith with custom parameters (num_trees)\n",
        "\n",
        "\n",
        "num_trees = 50\n",
        "Rf = RandomForestClassifier(n_estimators = num_trees )\n",
        "Rf.fit(x_train,y_train)\n",
        "y_preds_Rf = Rf.predict(x_test)\n",
        "print(accuracy_score(y_test,y_preds_Rf)*100)\n",
        "\n",
        "## Accuracy: 97.22222222222221"
      ],
      "metadata": {
        "id": "vHzNlgqQOSaQ",
        "colab": {
          "base_uri": "https://localhost:8080/"
        },
        "outputId": "8e3f3457-82d7-447c-dc50-4f72cc33fa4e"
      },
      "execution_count": null,
      "outputs": [
        {
          "output_type": "stream",
          "name": "stdout",
          "text": [
            "97.22222222222221\n"
          ]
        }
      ]
    },
    {
      "cell_type": "code",
      "source": [
        "## Using Random Forest Algorith with custom parameters (num_trees, max_features)\n",
        "\n",
        "\n",
        "num_trees = 50\n",
        "num_features = 13\n",
        "Rf = RandomForestClassifier (n_estimators = num_trees, max_features= num_features)\n",
        "Rf.fit(x_train,y_train)\n",
        "y_preds_Rf = Rf.predict(x_test)\n",
        "print(accuracy_score(y_test,y_preds_Rf)*100)\n",
        "\n",
        "## Accuracy: 97.22222222222221"
      ],
      "metadata": {
        "id": "Z8u5qBEINjcg",
        "colab": {
          "base_uri": "https://localhost:8080/"
        },
        "outputId": "4e462fb6-1666-461f-a1ad-f24ca3b275f6"
      },
      "execution_count": null,
      "outputs": [
        {
          "output_type": "stream",
          "name": "stdout",
          "text": [
            "97.22222222222221\n"
          ]
        }
      ]
    },
    {
      "cell_type": "markdown",
      "source": [
        "#**Gradient Boost**\n",
        "---\n",
        "### ***Intuition of the Model***\n",
        "*Gradient Boosting works by sequentially adding models to correct the errors of the previous models, with each new model focusing on the mistakes made by the ensemble so far.*\n",
        "\n",
        "- **Start with a simple model and Calculate errors:** We start with a simple model and calculate the errors of this simple model. Errors are the differences between the predicted prices and the actual prices in the dataset.\n",
        "\n",
        "- **Build another model to correct errors:** The next step is to build another decision tree that corrects the errors made by the first model. This tree focuses on reducing the errors of the first model. It learns from the residuals (differences between predicted and actual prices).\n",
        "\n",
        "- **Combine the models:** Now, we combine the predictions of both models. You add the predictions of the first model to the predictions of the second model. This combined prediction should be closer to the actual prices than the predictions of either model alone.\n",
        "\n",
        "- **Repeat:** Repeat these steps 2-4, each time we building a new model to correct the errors of the combined model created so far.\n",
        "\n",
        "- **Final Prediction:**  After repeating this process several times (usually with many weak learners), we have a strong ensemble model that predicts much more accurately than any individual model.\n",
        "\n",
        "\n",
        "\n",
        "---\n",
        "\n",
        "\n",
        "\n",
        "### ***Advantages***\n",
        "\n",
        "- **High Predictive Accuracy**: Gradient boosting often produces very accurate predictions. By combining multiple weak learners sequentially, it can capture complex patterns in the data, leading to high predictive accuracy.\n",
        "\n",
        "- **Handles Different Types of Data:** Gradient boosting can handle a variety of data types, including numerical and categorical features. It can also handle missing data without requiring imputation.\n",
        "\n",
        "- **Handles Nonlinear Relationships:** It's effective at capturing nonlinear relationships between features and the target variable, making it suitable for a wide range of predictive modeling tasks.\n",
        "\n",
        "- **Feature Importance:** Gradient boosting provides feature importance scores, which can help identify the most relevant features for making predictions. This can be useful for feature selection and understanding the underlying factors driving predictions.\n",
        "\n",
        "\n",
        "\n",
        "---\n",
        "\n",
        "\n",
        "\n",
        "### ***Disadvantages***\n",
        "- **Very high Computational Cost:** GBM can be computationally expensive and slow to train, especially with large datasets.\n",
        "\n",
        "- **Overfitting Risk:** Careful parameter tuning and regularization are necessary to prevent overfitting1.\n",
        "\n",
        "- **Dependency on Predecessors:** Each estimator in GBM depends on its predecessor, making it challenging to scale the algorithm-\n",
        "\n",
        "\n",
        "\n",
        "---\n",
        "\n",
        "\n",
        "\n",
        "### ***Important Parameters***\n",
        "- **loss {‘squared_error’, ‘absolute_error’, ‘huber’, ‘quantile’}, default=’squared_error’ :** Loss function to be optimized. ‘squared_error’ refers to the squared error for regression. ‘absolute_error’ refers to the absolute error of regression and is a robust loss function. ‘huber’ is a combination of the two. ‘quantile’ allows quantile regression (use alpha to specify the quantile).\n",
        "\n",
        "- **learning_rate float, default=0.1 :** Learning rate shrinks the contribution of each tree by learning_rate. There is a trade-off between learning_rate and n_estimators. Values must be in the range [0.0, inf).\n",
        "\n",
        "- **n_estimators int, default=100 :** The number of boosting stages to perform. Gradient boosting is fairly robust to over-fitting so a large number usually results in better performance. Values must be in the range [1, inf).\n",
        "\n",
        "- **subsample float, default=1.0 :**\n",
        "The fraction of samples to be used for fitting the individual base learners. If smaller than 1.0 this results in Stochastic Gradient Boosting. subsample interacts with the parameter n_estimators. Choosing subsample < 1.0 leads to a reduction of variance and an increase in bias. Values must be in the range (0.0, 1.0].\n",
        "\n"
      ],
      "metadata": {
        "id": "kLrcurCkHg5Y"
      }
    },
    {
      "cell_type": "code",
      "source": [
        "from sklearn.ensemble import GradientBoostingRegressor\n",
        "from sklearn.metrics import mean_squared_error"
      ],
      "metadata": {
        "id": "Knw-6CAoU_Rk"
      },
      "execution_count": null,
      "outputs": []
    },
    {
      "cell_type": "code",
      "source": [
        "gb_regressor = GradientBoostingRegressor()\n",
        "\n",
        "# Train the model\n",
        "gb_regressor.fit(x_train, y_train)\n",
        "\n",
        "# Make predictions on the test set\n",
        "y_pred = gb_regressor.predict(x_test)\n",
        "\n",
        "# Convert predictions to integer for classification\n",
        "y_pred_class = y_pred.astype(int)\n",
        "\n",
        "# Calculate Mean Squared Error (MSE) and Accuracy as a measure of performance\n",
        "mse = mean_squared_error(y_test, y_pred)\n",
        "print(\"Mean Squared Error:\", mse)\n",
        "\n",
        "accuracy = (accuracy_score(y_test, y_pred_class)*100)\n",
        "print(\"Accuracy:\", accuracy)\n",
        "\n",
        "# Mean Squared Error: 0.2446893327543399\n",
        "# Accuracy: 58.333333333333336"
      ],
      "metadata": {
        "colab": {
          "base_uri": "https://localhost:8080/"
        },
        "id": "jAd0LUiwWUKn",
        "outputId": "b8572f25-8feb-4874-b031-8ab9875af7cc"
      },
      "execution_count": null,
      "outputs": [
        {
          "output_type": "stream",
          "name": "stdout",
          "text": [
            "Mean Squared Error: 0.24913232618517828\n",
            "Accuracy: 58.333333333333336\n"
          ]
        }
      ]
    },
    {
      "cell_type": "code",
      "source": [
        "gb_regressor = GradientBoostingRegressor(n_estimators=1000, learning_rate=1, max_depth=100, random_state=42)\n",
        "\n",
        "# Train the model\n",
        "gb_regressor.fit(x_train, y_train)\n",
        "\n",
        "# Make predictions on the test set\n",
        "y_pred = gb_regressor.predict(x_test)\n",
        "\n",
        "# Convert predictions to integer for classification\n",
        "y_pred_class = y_pred.astype(int)\n",
        "\n",
        "# Calculate Mean Squared Error (MSE) and Accuracy as a measure of performance\n",
        "mse = mean_squared_error(y_test, y_pred)\n",
        "print(\"Mean Squared Error:\", mse)\n",
        "\n",
        "accuracy = (accuracy_score(y_test, y_pred_class)*100)\n",
        "print(\"Accuracy:\", accuracy)\n",
        "\n",
        "# Mean Squared Error: 0.18055555555555555\n",
        "# Accuracy: 48.61111111111111"
      ],
      "metadata": {
        "colab": {
          "base_uri": "https://localhost:8080/"
        },
        "id": "LBrvjyJiSkR1",
        "outputId": "d619618a-a625-41e7-acc4-51f269f75a3c"
      },
      "execution_count": null,
      "outputs": [
        {
          "output_type": "stream",
          "name": "stdout",
          "text": [
            "Mean Squared Error: 0.18055555555555555\n",
            "Accuracy: 48.61111111111111\n"
          ]
        }
      ]
    },
    {
      "cell_type": "markdown",
      "source": [
        "# **XG Boost**"
      ],
      "metadata": {
        "id": "TFhQ0Rb2eHgd"
      }
    },
    {
      "cell_type": "code",
      "source": [
        "import xgboost as xgb"
      ],
      "metadata": {
        "id": "AP2Pd44sfWRv"
      },
      "execution_count": null,
      "outputs": []
    },
    {
      "cell_type": "code",
      "source": [
        "# Define the XGBoost classifier\n",
        "xgb_classifier = xgb.XGBClassifier()\n",
        "\n",
        "y_train_adjusted = y_train - 1\n",
        "\n",
        "# Train the XGBoost classifier with the adjusted target variable\n",
        "xgb_classifier.fit(x_train, y_train_adjusted)\n",
        "\n",
        "# Make predictions on the test set\n",
        "y_pred_xgb = xgb_classifier.predict(x_test)\n",
        "\n",
        "# Calculate Accuracy\n",
        "accuracy_xgb = (accuracy_score(y_test, y_pred_xgb) * 100)\n",
        "print(\"Accuracy (XGBoost):\", accuracy_xgb)"
      ],
      "metadata": {
        "colab": {
          "base_uri": "https://localhost:8080/"
        },
        "id": "HlSMmnU3I_Q0",
        "outputId": "271a34fc-4526-4edf-c151-b51663f95365"
      },
      "execution_count": null,
      "outputs": [
        {
          "output_type": "stream",
          "name": "stdout",
          "text": [
            "Accuracy (XGBoost): 0.0\n"
          ]
        }
      ]
    },
    {
      "cell_type": "code",
      "source": [],
      "metadata": {
        "id": "8ZYOhtlbfWOU"
      },
      "execution_count": null,
      "outputs": []
    },
    {
      "cell_type": "code",
      "source": [],
      "metadata": {
        "id": "GRbFw1UJfWL7"
      },
      "execution_count": null,
      "outputs": []
    },
    {
      "cell_type": "code",
      "source": [],
      "metadata": {
        "id": "Gf4RoueDfWJ3"
      },
      "execution_count": null,
      "outputs": []
    },
    {
      "cell_type": "markdown",
      "source": [
        "# **K-Nearest Neighbour's (KNN) Algorithm**\n",
        "---\n",
        "##*Intuition behind the algorithm of the Model:*\n",
        "The intuition behind the k-nearest neighbors (KNN) algorithm is to make predictions based on the similarity of data points. It assumes that similar data points tend to have similar target values. So, when presented with a new data point, KNN looks at the k nearest data points (neighbors) in the feature space and predicts the target value based on the majority class (for classification) or the average value (for regression) among those neighbors.\n",
        "\n",
        "- K-Nearest Neighbour is one of the simplest Machine Learning algorithms based on Supervised Learning technique.\n",
        "- K-NN algorithm assumes the similarity between the new case/data and available cases and put the new case into the category that is most similar to the available categories.\n",
        "- K-NN algorithm stores all the available data and classifies a new data point based on the similarity. This means when new data appears then it can be easily classified into a well suite category by using K- NN algorithm.\n",
        "- K-NN algorithm can be used for Regression as well as for Classification but mostly it is used for the Classification problems.\n",
        "- K-NN is a non-parametric algorithm, which means it does not make any assumption on underlying data.\n",
        "- It is also called a lazy learner algorithm because it does not learn from the training set immediately instead it stores the dataset and at the time of classification, it performs an action on the dataset.\n",
        "- KNN algorithm at the training phase just stores the dataset and when it gets new data, then it classifies that data into a category that is much similar to the new data.\n",
        "\n",
        "---\n",
        "\n",
        "## **Advantages :**\n",
        "- Simple to implement.\n",
        "- Robust to the noisy training data\n",
        "- More effective for large training data.\n",
        "\n",
        "---\n",
        "\n",
        "## **Disadvantages of KNN Algorithm:**\n",
        "- Always needs to determine the value of K which may be complex some time.\n",
        "- The computation cost is high because of calculating the distance between the data points for all the training samples.\n",
        "\n",
        "---\n",
        "\n",
        "## **Parameters:**\n",
        "- **n_neighbors: int, default=5:** Number of neighbors to use by default for kneighbors queries.\n",
        "\n",
        "- **weights{‘uniform’, ‘distance’}, callable or None, default=’uniform’**\n",
        "* **algorithm: {‘auto’, ‘ball_tree’, ‘kd_tree’, ‘brute’}, default=’auto’**\n",
        "* **leaf_size: int, default=30:** Leaf size passed to BallTree or KDTree. This can affect the speed of the construction and query, as well as the memory required to store the tree. The optimal value depends on the nature of the problem.\n",
        "* **p: float, default=2:** Power parameter for the Minkowski metric. When p = 1, this is equivalent to using manhattan_distance (l1), and euclidean_distance (l2) for p = 2. For arbitrary p, minkowski_distance (l_p) is used. This parameter is expected to be positive.\n",
        "\n",
        "\n",
        "\n",
        "\n",
        "\n",
        "\n",
        "\n",
        "\n",
        "\n"
      ],
      "metadata": {
        "id": "q5F9DiO7eN8D"
      }
    },
    {
      "cell_type": "code",
      "source": [
        "# Using KNN Algorithm when (k=3)\n",
        "\n",
        "%%time\n",
        "knn = KNeighborsClassifier(n_neighbors=3)\n",
        "knn.fit(x_train,y_train)\n",
        "y_preds_knn=knn.predict(x_test)\n",
        "print(accuracy_score(y_test,y_preds_knn)*100)\n",
        "\n",
        "# 91.66666666666666\n",
        "# CPU times: user 59.6 ms, sys: 3.84 ms, total: 63.4 ms\n",
        "# Wall time: 71.7 ms"
      ],
      "metadata": {
        "colab": {
          "base_uri": "https://localhost:8080/"
        },
        "id": "q47hpuk6VL_v",
        "outputId": "3ba976dd-480a-48ea-915d-9beef9996997"
      },
      "execution_count": null,
      "outputs": [
        {
          "output_type": "stream",
          "name": "stdout",
          "text": [
            "91.66666666666666\n",
            "CPU times: user 28.2 ms, sys: 618 µs, total: 28.8 ms\n",
            "Wall time: 22.2 ms\n"
          ]
        }
      ]
    },
    {
      "cell_type": "code",
      "source": [
        "%%time\n",
        "accuracyKNN = []\n",
        "for i in range(1,30):\n",
        "    knn = KNeighborsClassifier(n_neighbors=i)\n",
        "    knn.fit(x_train,y_train)\n",
        "    y_preds_knn=knn.predict(x_test)\n",
        "    accuracyKNN.append(accuracy_score(y_test,y_preds_knn)*100)"
      ],
      "metadata": {
        "colab": {
          "base_uri": "https://localhost:8080/"
        },
        "id": "yMFEpubReGov",
        "outputId": "e12903cf-cf87-42a9-ccc3-0cc512328bdf"
      },
      "execution_count": null,
      "outputs": [
        {
          "output_type": "stream",
          "name": "stdout",
          "text": [
            "CPU times: user 612 ms, sys: 0 ns, total: 612 ms\n",
            "Wall time: 318 ms\n"
          ]
        }
      ]
    },
    {
      "cell_type": "code",
      "source": [
        "accuracyKNN"
      ],
      "metadata": {
        "colab": {
          "base_uri": "https://localhost:8080/"
        },
        "id": "rJMYgH8GewKs",
        "outputId": "84524e21-7b41-4789-bf20-b4d53ba87409"
      },
      "execution_count": null,
      "outputs": [
        {
          "output_type": "execute_result",
          "data": {
            "text/plain": [
              "[94.44444444444444,\n",
              " 88.88888888888889,\n",
              " 91.66666666666666,\n",
              " 90.27777777777779,\n",
              " 88.88888888888889,\n",
              " 88.88888888888889,\n",
              " 88.88888888888889,\n",
              " 87.5,\n",
              " 86.11111111111111,\n",
              " 83.33333333333334,\n",
              " 80.55555555555556,\n",
              " 80.55555555555556,\n",
              " 81.94444444444444,\n",
              " 81.94444444444444,\n",
              " 83.33333333333334,\n",
              " 79.16666666666666,\n",
              " 80.55555555555556,\n",
              " 77.77777777777779,\n",
              " 76.38888888888889,\n",
              " 77.77777777777779,\n",
              " 79.16666666666666,\n",
              " 79.16666666666666,\n",
              " 79.16666666666666,\n",
              " 79.16666666666666,\n",
              " 79.16666666666666,\n",
              " 80.55555555555556,\n",
              " 76.38888888888889,\n",
              " 75.0,\n",
              " 75.0]"
            ]
          },
          "metadata": {},
          "execution_count": 73
        }
      ]
    },
    {
      "cell_type": "code",
      "source": [
        "max(accuracyKNN)\n",
        "\n",
        "#94.44444444444444"
      ],
      "metadata": {
        "colab": {
          "base_uri": "https://localhost:8080/"
        },
        "id": "sT962zWyewHM",
        "outputId": "4661d7b6-3303-4f2d-bb23-55749b588f75"
      },
      "execution_count": null,
      "outputs": [
        {
          "output_type": "execute_result",
          "data": {
            "text/plain": [
              "94.44444444444444"
            ]
          },
          "metadata": {},
          "execution_count": 74
        }
      ]
    },
    {
      "cell_type": "code",
      "source": [
        "len(accuracyKNN)\n",
        "\n",
        "## 29"
      ],
      "metadata": {
        "colab": {
          "base_uri": "https://localhost:8080/"
        },
        "id": "SgL4k6hlewE-",
        "outputId": "a24c138e-5ba5-4f3a-9d01-d26a710e30e0"
      },
      "execution_count": null,
      "outputs": [
        {
          "output_type": "execute_result",
          "data": {
            "text/plain": [
              "29"
            ]
          },
          "metadata": {},
          "execution_count": 75
        }
      ]
    },
    {
      "cell_type": "code",
      "source": [],
      "metadata": {
        "id": "rJ48Msz0ewCv"
      },
      "execution_count": null,
      "outputs": []
    },
    {
      "cell_type": "code",
      "source": [],
      "metadata": {
        "id": "Cj72_6o7ev-4"
      },
      "execution_count": null,
      "outputs": []
    },
    {
      "cell_type": "code",
      "source": [],
      "metadata": {
        "id": "K6fRwFaCev84"
      },
      "execution_count": null,
      "outputs": []
    },
    {
      "cell_type": "code",
      "source": [],
      "metadata": {
        "id": "Kkyqp5eWev6o"
      },
      "execution_count": null,
      "outputs": []
    },
    {
      "cell_type": "code",
      "source": [],
      "metadata": {
        "id": "RQbaRfarev4n"
      },
      "execution_count": null,
      "outputs": []
    },
    {
      "cell_type": "code",
      "source": [],
      "metadata": {
        "id": "12jaL6RUev2c"
      },
      "execution_count": null,
      "outputs": []
    },
    {
      "cell_type": "code",
      "source": [],
      "metadata": {
        "id": "PImaV8mhev0j"
      },
      "execution_count": null,
      "outputs": []
    },
    {
      "cell_type": "code",
      "source": [],
      "metadata": {
        "id": "a2t6tosPevyW"
      },
      "execution_count": null,
      "outputs": []
    },
    {
      "cell_type": "code",
      "source": [],
      "metadata": {
        "id": "ymgezViAevwL"
      },
      "execution_count": null,
      "outputs": []
    },
    {
      "cell_type": "code",
      "source": [],
      "metadata": {
        "id": "ewRp6DfgH1x8"
      },
      "execution_count": null,
      "outputs": []
    }
  ]
}